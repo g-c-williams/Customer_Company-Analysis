{
 "cells": [
  {
   "cell_type": "markdown",
   "id": "0899a72e",
   "metadata": {},
   "source": [
    "# Customers & Companies: A Data Exploration Project\n",
    "By: Gavin Williams"
   ]
  },
  {
   "cell_type": "markdown",
   "id": "bb4f6766",
   "metadata": {},
   "source": [
    "Please see 'Assumptions' at the end of the workbook prior to reviewing."
   ]
  },
  {
   "cell_type": "markdown",
   "id": "5cf434b4",
   "metadata": {},
   "source": [
    "Import functions that will need to be utilized to manipulate and analyze the data:"
   ]
  },
  {
   "cell_type": "code",
   "execution_count": 1,
   "id": "f39e5ec1",
   "metadata": {},
   "outputs": [],
   "source": [
    "import numpy as np\n",
    "import pandas as pd\n",
    "import matplotlib.pyplot as plt"
   ]
  },
  {
   "cell_type": "markdown",
   "id": "33e0a35a",
   "metadata": {},
   "source": [
    "# Import 'Customer' Dataset"
   ]
  },
  {
   "cell_type": "markdown",
   "id": "7136e618",
   "metadata": {},
   "source": [
    "Let's import the 'customer' data set which is stored as a csv file:"
   ]
  },
  {
   "cell_type": "code",
   "execution_count": 2,
   "id": "dd54b7b1",
   "metadata": {},
   "outputs": [],
   "source": [
    "customer_df = pd.read_csv('customers.csv')"
   ]
  },
  {
   "cell_type": "code",
   "execution_count": 3,
   "id": "bb1a038d",
   "metadata": {},
   "outputs": [
    {
     "data": {
      "text/html": [
       "<div>\n",
       "<style scoped>\n",
       "    .dataframe tbody tr th:only-of-type {\n",
       "        vertical-align: middle;\n",
       "    }\n",
       "\n",
       "    .dataframe tbody tr th {\n",
       "        vertical-align: top;\n",
       "    }\n",
       "\n",
       "    .dataframe thead th {\n",
       "        text-align: right;\n",
       "    }\n",
       "</style>\n",
       "<table border=\"1\" class=\"dataframe\">\n",
       "  <thead>\n",
       "    <tr style=\"text-align: right;\">\n",
       "      <th></th>\n",
       "      <th>id</th>\n",
       "      <th>age</th>\n",
       "      <th>gender</th>\n",
       "      <th>email</th>\n",
       "      <th>business_nature</th>\n",
       "      <th>company</th>\n",
       "      <th>position</th>\n",
       "      <th>payment_method</th>\n",
       "      <th>name</th>\n",
       "      <th>targets</th>\n",
       "    </tr>\n",
       "  </thead>\n",
       "  <tbody>\n",
       "    <tr>\n",
       "      <th>0</th>\n",
       "      <td>0</td>\n",
       "      <td>26</td>\n",
       "      <td>Male</td>\n",
       "      <td>gmail.com</td>\n",
       "      <td>Communications</td>\n",
       "      <td>NaN</td>\n",
       "      <td>customer service officer</td>\n",
       "      <td>A</td>\n",
       "      <td>John__melgarejo</td>\n",
       "      <td>20670.07;20632.81;20722.58;20332.79;20662.55</td>\n",
       "    </tr>\n",
       "    <tr>\n",
       "      <th>1</th>\n",
       "      <td>1</td>\n",
       "      <td>31</td>\n",
       "      <td>Male</td>\n",
       "      <td>ymail.com</td>\n",
       "      <td>Government</td>\n",
       "      <td>NaN</td>\n",
       "      <td>助理客戶服務主管</td>\n",
       "      <td>A</td>\n",
       "      <td>William___kerne</td>\n",
       "      <td>31551.75;32431.83</td>\n",
       "    </tr>\n",
       "    <tr>\n",
       "      <th>2</th>\n",
       "      <td>2</td>\n",
       "      <td>26</td>\n",
       "      <td>Male</td>\n",
       "      <td>yahoo.com.hk</td>\n",
       "      <td>Retail / Wholesale</td>\n",
       "      <td>NaN</td>\n",
       "      <td>店務員</td>\n",
       "      <td>A</td>\n",
       "      <td>James___kadner</td>\n",
       "      <td>21686.08;21282.62;21566.40</td>\n",
       "    </tr>\n",
       "    <tr>\n",
       "      <th>3</th>\n",
       "      <td>3</td>\n",
       "      <td>52</td>\n",
       "      <td>Male</td>\n",
       "      <td>gmail.com</td>\n",
       "      <td>Other</td>\n",
       "      <td>NaN</td>\n",
       "      <td>MANAGER</td>\n",
       "      <td>NaN</td>\n",
       "      <td>Charles__MUHL</td>\n",
       "      <td>26055.26;26039.48;25986.92</td>\n",
       "    </tr>\n",
       "    <tr>\n",
       "      <th>4</th>\n",
       "      <td>4</td>\n",
       "      <td>22</td>\n",
       "      <td>Male</td>\n",
       "      <td>gmail.com</td>\n",
       "      <td>Retail / Wholesale</td>\n",
       "      <td>NaN</td>\n",
       "      <td>sales</td>\n",
       "      <td>A</td>\n",
       "      <td>george___baridon</td>\n",
       "      <td>15950.31</td>\n",
       "    </tr>\n",
       "  </tbody>\n",
       "</table>\n",
       "</div>"
      ],
      "text/plain": [
       "   id  age gender         email     business_nature company  \\\n",
       "0   0   26   Male     gmail.com      Communications     NaN   \n",
       "1   1   31   Male     ymail.com          Government     NaN   \n",
       "2   2   26   Male  yahoo.com.hk  Retail / Wholesale     NaN   \n",
       "3   3   52   Male     gmail.com               Other     NaN   \n",
       "4   4   22   Male     gmail.com  Retail / Wholesale     NaN   \n",
       "\n",
       "                   position payment_method              name  \\\n",
       "0  customer service officer              A   John__melgarejo   \n",
       "1                  助理客戶服務主管              A   William___kerne   \n",
       "2                       店務員              A    James___kadner   \n",
       "3                   MANAGER            NaN     Charles__MUHL   \n",
       "4                     sales              A  george___baridon   \n",
       "\n",
       "                                        targets  \n",
       "0  20670.07;20632.81;20722.58;20332.79;20662.55  \n",
       "1                             31551.75;32431.83  \n",
       "2                    21686.08;21282.62;21566.40  \n",
       "3                    26055.26;26039.48;25986.92  \n",
       "4                                      15950.31  "
      ]
     },
     "execution_count": 3,
     "metadata": {},
     "output_type": "execute_result"
    }
   ],
   "source": [
    "# returns first 5 rows of the dataframe\n",
    "customer_df.head(5)"
   ]
  },
  {
   "cell_type": "markdown",
   "id": "0e158e5b",
   "metadata": {},
   "source": [
    "Let's gather some general information on the customer_df dataframe:"
   ]
  },
  {
   "cell_type": "code",
   "execution_count": 4,
   "id": "aec57ef2",
   "metadata": {},
   "outputs": [
    {
     "name": "stdout",
     "output_type": "stream",
     "text": [
      "<class 'pandas.core.frame.DataFrame'>\n",
      "RangeIndex: 9189 entries, 0 to 9188\n",
      "Data columns (total 10 columns):\n",
      " #   Column           Non-Null Count  Dtype \n",
      "---  ------           --------------  ----- \n",
      " 0   id               9189 non-null   int64 \n",
      " 1   age              9189 non-null   int64 \n",
      " 2   gender           8874 non-null   object\n",
      " 3   email            9012 non-null   object\n",
      " 4   business_nature  8978 non-null   object\n",
      " 5   company          8906 non-null   object\n",
      " 6   position         8914 non-null   object\n",
      " 7   payment_method   5865 non-null   object\n",
      " 8   name             9189 non-null   object\n",
      " 9   targets          9104 non-null   object\n",
      "dtypes: int64(2), object(8)\n",
      "memory usage: 718.0+ KB\n"
     ]
    }
   ],
   "source": [
    "customer_df.info()"
   ]
  },
  {
   "cell_type": "markdown",
   "id": "adfbf6ea",
   "metadata": {},
   "source": [
    "In viewing the information on the customer_df dataframe, its evident that there is missing data for a majority of the fields. The fields 'id', 'age', and 'name' are the only fields without missing data. Missing data is represented by the undefined value, NaN. These undefined values will be remediated in the following lines of code."
   ]
  },
  {
   "cell_type": "markdown",
   "id": "3930894d",
   "metadata": {},
   "source": [
    "Before beginning to cleanse the data, let's verify the field 'id' is primary key of the dataframe. This is important in case this dataframe would need to be joined to others. Note, the primary key for each customer record must be unique."
   ]
  },
  {
   "cell_type": "code",
   "execution_count": 5,
   "id": "ed237bcf",
   "metadata": {},
   "outputs": [
    {
     "data": {
      "text/plain": [
       "True"
      ]
     },
     "execution_count": 5,
     "metadata": {},
     "output_type": "execute_result"
    }
   ],
   "source": [
    "customer_df['id'].is_unique"
   ]
  },
  {
   "cell_type": "markdown",
   "id": "e7e5256e",
   "metadata": {},
   "source": [
    "Since the above line of code evaluates to True and there are no undefined values, we could confidently use this field as the primary key in the future."
   ]
  },
  {
   "cell_type": "markdown",
   "id": "29534549",
   "metadata": {},
   "source": [
    "# Creating 'Data_Cleaner' Class & Cleansing Customer Dataset"
   ]
  },
  {
   "cell_type": "markdown",
   "id": "bde1ebbc",
   "metadata": {},
   "source": [
    "To expedite the process in cleansing this and future customer dataframes, let's create the class \"Data_Cleaner\" in which the constructor (__init__) will be initialized with a Pandas dataframe. Within this class, there are the following methods:\n",
    "\n",
    "1. fill_nan: method that replaces undefined values in the dataframe's series with a defined value\n",
    "2. remove_underscore: helper method that removes empty strings in a list\n",
    "3. cleanse_customer_name: method that removes delimiters and separates a single name column into two, first and last name\n",
    "4. target_converter_iloc: method that converts a column of 'targets' (or other values) into lists of values\n",
    "5. remove_space_upper: method that removes uneeded trailing/leading spaces in a string and uppercases all characters"
   ]
  },
  {
   "cell_type": "code",
   "execution_count": 6,
   "id": "d83012dd",
   "metadata": {},
   "outputs": [],
   "source": [
    "class Data_Cleaner:\n",
    "    def __init__(self, my_dataframe):\n",
    "        self.my_dataframe = my_dataframe\n",
    "        \n",
    "    def fill_nan(self, column, value = 'unknown'):\n",
    "        \"\"\"Replaces undefined values in a dataframe's series with a defined value\n",
    "        \n",
    "        :param column (series): Pandas series in which undefined values will be replaced\n",
    "        :param value: value that will replace undefined values in the series. Default is the string - 'unknown'\n",
    "        :returns: Updated series with undefined values replaced\n",
    "        \"\"\"\n",
    "        self.my_dataframe[column] = self.my_dataframe[column].fillna(value = value)\n",
    "    \n",
    "    def remove_underscore(self, x):\n",
    "        \"\"\"Removes empty strings in a list. Note, this is to be utilized as a helper function for the class function,\n",
    "        cleanse_customer_name, and should not be called directly.\n",
    "        \n",
    "        :param x (list): index of a Pandas series\n",
    "        :returns: a series with empty strings removed from list objects at each index\n",
    "        \"\"\"\n",
    "        res = [i for i in x if i.strip()]\n",
    "        return res\n",
    "        \n",
    "    def cleanse_customer_name(self, column, delimiter = '_'):\n",
    "        \"\"\"Cleanses customer names by removing delimiters and separating into two columns, first_name and last_name\n",
    "        \n",
    "        :param column (series): Pandas series of names that will be cleansed\n",
    "        :param delimiter (str): delimiter that the input name series will be split on. Default is a single underscore, '_'\n",
    "        :returns: Updated dataframe with two series, first_name and last_name. Note, the original series is removed \n",
    "        from the dataframe.\n",
    "        \"\"\"        \n",
    "        self.my_dataframe[column] = self.my_dataframe[column].str.split(delimiter)\n",
    "        self.my_dataframe[column] = self.my_dataframe[column].apply(self.remove_underscore)\n",
    "        first_last_name = pd.DataFrame(self.my_dataframe[column].tolist(), columns = ['first_name', 'last_name'])\n",
    "        self.my_dataframe = pd.concat(objs = [self.my_dataframe, first_last_name], axis = 1)\n",
    "        self.my_dataframe = self.my_dataframe.drop(column, axis = 1)\n",
    "        self.my_dataframe['first_name'] = self.my_dataframe['first_name'].str.capitalize()\n",
    "        self.my_dataframe['last_name'] = self.my_dataframe['last_name'].str.capitalize()\n",
    "    \n",
    "    \n",
    "    def target_converter_iloc(self, column):\n",
    "        \"\"\"Converts target column from a string of values to a list of floats for customer record aggregation and analysis\n",
    "        \n",
    "        :param column (series): Pandas series of target values that will be converted to a list of floats\n",
    "        :returns: Updated series of targets as a list of floats. Any undefined records are converted to an empty list, []       from the dataframe.\n",
    "        \"\"\"\n",
    "        col_indx = self.my_dataframe.columns.get_loc(column)\n",
    "        \n",
    "         # splits each row's column_name value\n",
    "        self.my_dataframe[column] = self.my_dataframe[column].str.split(';')\n",
    "        \n",
    "        # outer loop ensures the entire series will be iterated over\n",
    "        for i in range(len(self.my_dataframe[column])):\n",
    "            \n",
    "            # first change, checking if it's NaN by comparing it to itself (if x != x, x is NaN)\n",
    "            if self.my_dataframe.iloc[i, col_indx] != self.my_dataframe.iloc[i, col_indx]:\n",
    "                \n",
    "                # next change, using df.iat\n",
    "                self.my_dataframe.iat[i, col_indx] = []\n",
    "            else:\n",
    "                for target in range(len(self.my_dataframe[column][i])):\n",
    "                    self.my_dataframe.iloc[i, col_indx][target] = float(self.my_dataframe.iloc[i, col_indx][target])\n",
    "        return self.my_dataframe[column]\n",
    "    \n",
    "    \n",
    "    def remove_space_upper(self, column):\n",
    "        \"\"\"Cleans strings by removing leading/trailing spaces and makes all characters uppercase\n",
    "                \n",
    "        :param column (series): Pandas series of strings to be cleansed\n",
    "        :returns: Updated series of strings cleansed\n",
    "        \"\"\"\n",
    "        self.my_dataframe[column] = self.my_dataframe[column].str.split()\n",
    "        self.my_dataframe[column] = self.my_dataframe[column].apply(lambda x: ' '.join(map(str, x)))\n",
    "        self.my_dataframe[column] = self.my_dataframe[column].str.upper()"
   ]
  },
  {
   "cell_type": "code",
   "execution_count": 7,
   "id": "1d345bac",
   "metadata": {},
   "outputs": [
    {
     "data": {
      "text/plain": [
       "__main__.Data_Cleaner"
      ]
     },
     "execution_count": 7,
     "metadata": {},
     "output_type": "execute_result"
    }
   ],
   "source": [
    "Data_Cleaner"
   ]
  },
  {
   "cell_type": "markdown",
   "id": "1de7fa2a",
   "metadata": {},
   "source": [
    "The customer_df dataframe will be passed into the class, Data_Cleaner, to create a new dataframe object of the class. The class methods will be applied to clean up the data prior to aggregation and analysis."
   ]
  },
  {
   "cell_type": "markdown",
   "id": "e730d301",
   "metadata": {},
   "source": [
    "First, let's replace the undefined values in some of the columns:"
   ]
  },
  {
   "cell_type": "code",
   "execution_count": 8,
   "id": "48ef88bd",
   "metadata": {},
   "outputs": [],
   "source": [
    "# creates dataframe object of Data_Cleaner class\n",
    "customer_df_new = Data_Cleaner(customer_df)\n",
    "\n",
    "# replaces NaN values in the dataframe\n",
    "customer_df_new.fill_nan('gender')\n",
    "customer_df_new.fill_nan('business_nature')\n",
    "customer_df_new.fill_nan('company')\n",
    "customer_df_new.fill_nan('position')\n",
    "customer_df_new.fill_nan('payment_method')"
   ]
  },
  {
   "cell_type": "markdown",
   "id": "a2108a10",
   "metadata": {},
   "source": [
    "Second, let's split the feature 'name' into two features: first and last name:`"
   ]
  },
  {
   "cell_type": "code",
   "execution_count": 9,
   "id": "e69d469f",
   "metadata": {},
   "outputs": [
    {
     "data": {
      "text/html": [
       "<div>\n",
       "<style scoped>\n",
       "    .dataframe tbody tr th:only-of-type {\n",
       "        vertical-align: middle;\n",
       "    }\n",
       "\n",
       "    .dataframe tbody tr th {\n",
       "        vertical-align: top;\n",
       "    }\n",
       "\n",
       "    .dataframe thead th {\n",
       "        text-align: right;\n",
       "    }\n",
       "</style>\n",
       "<table border=\"1\" class=\"dataframe\">\n",
       "  <thead>\n",
       "    <tr style=\"text-align: right;\">\n",
       "      <th></th>\n",
       "      <th>first_name</th>\n",
       "      <th>last_name</th>\n",
       "    </tr>\n",
       "  </thead>\n",
       "  <tbody>\n",
       "    <tr>\n",
       "      <th>0</th>\n",
       "      <td>John</td>\n",
       "      <td>Melgarejo</td>\n",
       "    </tr>\n",
       "    <tr>\n",
       "      <th>1</th>\n",
       "      <td>William</td>\n",
       "      <td>Kerne</td>\n",
       "    </tr>\n",
       "    <tr>\n",
       "      <th>2</th>\n",
       "      <td>James</td>\n",
       "      <td>Kadner</td>\n",
       "    </tr>\n",
       "    <tr>\n",
       "      <th>3</th>\n",
       "      <td>Charles</td>\n",
       "      <td>Muhl</td>\n",
       "    </tr>\n",
       "    <tr>\n",
       "      <th>4</th>\n",
       "      <td>George</td>\n",
       "      <td>Baridon</td>\n",
       "    </tr>\n",
       "    <tr>\n",
       "      <th>...</th>\n",
       "      <td>...</td>\n",
       "      <td>...</td>\n",
       "    </tr>\n",
       "    <tr>\n",
       "      <th>9184</th>\n",
       "      <td>Cammie</td>\n",
       "      <td>Fashaw</td>\n",
       "    </tr>\n",
       "    <tr>\n",
       "      <th>9185</th>\n",
       "      <td>Rollie</td>\n",
       "      <td>Schrantz</td>\n",
       "    </tr>\n",
       "    <tr>\n",
       "      <th>9186</th>\n",
       "      <td>Carmen</td>\n",
       "      <td>Autobee</td>\n",
       "    </tr>\n",
       "    <tr>\n",
       "      <th>9187</th>\n",
       "      <td>Claudie</td>\n",
       "      <td>Helie</td>\n",
       "    </tr>\n",
       "    <tr>\n",
       "      <th>9188</th>\n",
       "      <td>Besse</td>\n",
       "      <td>Tourville</td>\n",
       "    </tr>\n",
       "  </tbody>\n",
       "</table>\n",
       "<p>9189 rows × 2 columns</p>\n",
       "</div>"
      ],
      "text/plain": [
       "     first_name  last_name\n",
       "0          John  Melgarejo\n",
       "1       William      Kerne\n",
       "2         James     Kadner\n",
       "3       Charles       Muhl\n",
       "4        George    Baridon\n",
       "...         ...        ...\n",
       "9184     Cammie     Fashaw\n",
       "9185     Rollie   Schrantz\n",
       "9186     Carmen    Autobee\n",
       "9187    Claudie      Helie\n",
       "9188      Besse  Tourville\n",
       "\n",
       "[9189 rows x 2 columns]"
      ]
     },
     "execution_count": 9,
     "metadata": {},
     "output_type": "execute_result"
    }
   ],
   "source": [
    "# splits 'name' feature\n",
    "customer_df_new.cleanse_customer_name('name')\n",
    "\n",
    "customer_df_new.my_dataframe[['first_name', 'last_name']]"
   ]
  },
  {
   "cell_type": "markdown",
   "id": "d3044205",
   "metadata": {},
   "source": [
    "Next, let's clean up columns \"company\" and \"business_nature\":"
   ]
  },
  {
   "cell_type": "code",
   "execution_count": 10,
   "id": "c12b2f7e",
   "metadata": {},
   "outputs": [],
   "source": [
    "# cleans up columns by removing leading/trailing spaces and uppercasing\n",
    "customer_df_new.remove_space_upper('company')\n",
    "customer_df_new.remove_space_upper('business_nature')\n",
    "customer_df_new.remove_space_upper('position')"
   ]
  },
  {
   "cell_type": "markdown",
   "id": "c9e0c7b6",
   "metadata": {},
   "source": [
    "Finally, let's split the ‘target list’ feature to extract the values of all the ‘target’ values and create three aggregated features from the list of target values (Mean, SD, Count). Recall: all 'target' values that are undefined will be replaced by an empty list, [ ]."
   ]
  },
  {
   "cell_type": "code",
   "execution_count": 11,
   "id": "c72114cc",
   "metadata": {
    "scrolled": false
   },
   "outputs": [
    {
     "data": {
      "text/plain": [
       "0       [20670.07, 20632.81, 20722.58, 20332.79, 20662...\n",
       "1                                    [31551.75, 32431.83]\n",
       "2                           [21686.08, 21282.62, 21566.4]\n",
       "3                          [26055.26, 26039.48, 25986.92]\n",
       "4                                              [15950.31]\n",
       "                              ...                        \n",
       "9184                                                   []\n",
       "9185                                                   []\n",
       "9186                                                   []\n",
       "9187                                                   []\n",
       "9188                                                   []\n",
       "Name: targets, Length: 9189, dtype: object"
      ]
     },
     "execution_count": 11,
     "metadata": {},
     "output_type": "execute_result"
    }
   ],
   "source": [
    "customer_df_new.target_converter_iloc('targets')"
   ]
  },
  {
   "cell_type": "code",
   "execution_count": 12,
   "id": "2c65d4b4",
   "metadata": {},
   "outputs": [],
   "source": [
    "# calculates mean of target values for each customer record\n",
    "customer_df_new.my_dataframe['target_mean'] = pd.DataFrame(data = customer_df_new.my_dataframe['targets'].values.tolist()).mean(axis = 1)\n",
    "\n",
    "# calculates count of target values for each customer record\n",
    "customer_df_new.my_dataframe['target_count'] = pd.DataFrame(data = customer_df_new.my_dataframe['targets'].values.tolist()).count(axis = 1)\n",
    "\n",
    "# calculates standard deviation of target values for each customer record\n",
    "# df.std() parameter ddof = 0 is used to calculate each row's targets population stdev and handle dividing by zero\n",
    "customer_df_new.my_dataframe['target_stdv'] = pd.DataFrame(data = customer_df_new.my_dataframe['targets'].values.tolist()).std(axis = 1, ddof = 0)"
   ]
  },
  {
   "cell_type": "code",
   "execution_count": 13,
   "id": "5829a8e3",
   "metadata": {},
   "outputs": [
    {
     "data": {
      "text/html": [
       "<div>\n",
       "<style scoped>\n",
       "    .dataframe tbody tr th:only-of-type {\n",
       "        vertical-align: middle;\n",
       "    }\n",
       "\n",
       "    .dataframe tbody tr th {\n",
       "        vertical-align: top;\n",
       "    }\n",
       "\n",
       "    .dataframe thead th {\n",
       "        text-align: right;\n",
       "    }\n",
       "</style>\n",
       "<table border=\"1\" class=\"dataframe\">\n",
       "  <thead>\n",
       "    <tr style=\"text-align: right;\">\n",
       "      <th></th>\n",
       "      <th>company</th>\n",
       "      <th>first_name</th>\n",
       "      <th>last_name</th>\n",
       "      <th>targets</th>\n",
       "      <th>target_mean</th>\n",
       "      <th>target_stdv</th>\n",
       "      <th>target_count</th>\n",
       "    </tr>\n",
       "  </thead>\n",
       "  <tbody>\n",
       "    <tr>\n",
       "      <th>5</th>\n",
       "      <td>UNKNOWN</td>\n",
       "      <td>Anna</td>\n",
       "      <td>Muhn</td>\n",
       "      <td>[13301.2, 13455.24, 13296.57]</td>\n",
       "      <td>13351.003333</td>\n",
       "      <td>73.730687</td>\n",
       "      <td>3</td>\n",
       "    </tr>\n",
       "    <tr>\n",
       "      <th>6</th>\n",
       "      <td>UNKNOWN</td>\n",
       "      <td>Frank</td>\n",
       "      <td>Muhn</td>\n",
       "      <td>[22549.32, 22471.3, 22271.52, 22174.17]</td>\n",
       "      <td>22366.577500</td>\n",
       "      <td>150.348094</td>\n",
       "      <td>4</td>\n",
       "    </tr>\n",
       "    <tr>\n",
       "      <th>7</th>\n",
       "      <td>UNKNOWN</td>\n",
       "      <td>Joseph</td>\n",
       "      <td>Jeannette</td>\n",
       "      <td>[11900.57, 11887.24, 11861.63]</td>\n",
       "      <td>11883.146667</td>\n",
       "      <td>16.158536</td>\n",
       "      <td>3</td>\n",
       "    </tr>\n",
       "    <tr>\n",
       "      <th>8</th>\n",
       "      <td>UNKNOWN</td>\n",
       "      <td>Emma</td>\n",
       "      <td>Muha</td>\n",
       "      <td>[13702.91]</td>\n",
       "      <td>13702.910000</td>\n",
       "      <td>0.000000</td>\n",
       "      <td>1</td>\n",
       "    </tr>\n",
       "    <tr>\n",
       "      <th>9</th>\n",
       "      <td>CUICO FLORIST LIMITED</td>\n",
       "      <td>Elizabeth</td>\n",
       "      <td>Thomaston</td>\n",
       "      <td>[25819.65, 25758.61]</td>\n",
       "      <td>25789.130000</td>\n",
       "      <td>30.520000</td>\n",
       "      <td>2</td>\n",
       "    </tr>\n",
       "    <tr>\n",
       "      <th>10</th>\n",
       "      <td>SINCERE FINANCE HOLDING LIMITED</td>\n",
       "      <td>Thomas</td>\n",
       "      <td>Melgarejo</td>\n",
       "      <td>[20523.5, 20420.91, 20466.45]</td>\n",
       "      <td>20470.286667</td>\n",
       "      <td>41.969966</td>\n",
       "      <td>3</td>\n",
       "    </tr>\n",
       "  </tbody>\n",
       "</table>\n",
       "</div>"
      ],
      "text/plain": [
       "                            company first_name  last_name  \\\n",
       "5                           UNKNOWN       Anna       Muhn   \n",
       "6                           UNKNOWN      Frank       Muhn   \n",
       "7                           UNKNOWN     Joseph  Jeannette   \n",
       "8                           UNKNOWN       Emma       Muha   \n",
       "9             CUICO FLORIST LIMITED  Elizabeth  Thomaston   \n",
       "10  SINCERE FINANCE HOLDING LIMITED     Thomas  Melgarejo   \n",
       "\n",
       "                                    targets   target_mean  target_stdv  \\\n",
       "5             [13301.2, 13455.24, 13296.57]  13351.003333    73.730687   \n",
       "6   [22549.32, 22471.3, 22271.52, 22174.17]  22366.577500   150.348094   \n",
       "7            [11900.57, 11887.24, 11861.63]  11883.146667    16.158536   \n",
       "8                                [13702.91]  13702.910000     0.000000   \n",
       "9                      [25819.65, 25758.61]  25789.130000    30.520000   \n",
       "10            [20523.5, 20420.91, 20466.45]  20470.286667    41.969966   \n",
       "\n",
       "    target_count  \n",
       "5              3  \n",
       "6              4  \n",
       "7              3  \n",
       "8              1  \n",
       "9              2  \n",
       "10             3  "
      ]
     },
     "execution_count": 13,
     "metadata": {},
     "output_type": "execute_result"
    }
   ],
   "source": [
    "customer_df_new.my_dataframe.loc[5:10, ['company', 'first_name', 'last_name', 'targets', 'target_mean', 'target_stdv', 'target_count']]"
   ]
  },
  {
   "cell_type": "markdown",
   "id": "566dad8b",
   "metadata": {},
   "source": [
    "In viewing the dataframe slice above, notice the feature 'name' has ben separated into two columns - 'first_name' and 'last_name' - and the series 'targets' has been converted into lists with floats. The new 'targets' format allows for the following aggregations to be performed: target_mean, target_stdv, and target_count. These aggregations are included as the last three series of the dataframe. \n",
    "\n",
    "Columns such as 'company' have been trimmed and uppercase, so they can be aggregated in later steps if needed (e.g.; ' CUICO ' != 'CUICO' and 'cuico' != 'Cuico')."
   ]
  },
  {
   "cell_type": "markdown",
   "id": "b07ac522",
   "metadata": {},
   "source": [
    "# Address Abnormal Customer in Customer Dataset"
   ]
  },
  {
   "cell_type": "markdown",
   "id": "6dfdeaa4",
   "metadata": {},
   "source": [
    "Before we begin to analyze the data and create visualizations, there are a few last things to do. First, we'll create a deep copy of the original dataframe so any changes are not reflected in the original."
   ]
  },
  {
   "cell_type": "code",
   "execution_count": 14,
   "id": "5261ecf4",
   "metadata": {},
   "outputs": [],
   "source": [
    "# creates a deep copy of the original dataframe so any changes to the copy are not reflected in original\n",
    "cust_df_copy_2 = customer_df_new.my_dataframe.copy(deep = True)"
   ]
  },
  {
   "cell_type": "markdown",
   "id": "cb5d134a",
   "metadata": {},
   "source": [
    "Second, let's drop customer record id = 8419, Lyda Kadner. Kadner has a 'target_mean' value that is ~990K higher than the next highest customer by 'target_mean', Louie Grindstaff."
   ]
  },
  {
   "cell_type": "code",
   "execution_count": 15,
   "id": "5547a82a",
   "metadata": {},
   "outputs": [
    {
     "data": {
      "text/html": [
       "<div>\n",
       "<style scoped>\n",
       "    .dataframe tbody tr th:only-of-type {\n",
       "        vertical-align: middle;\n",
       "    }\n",
       "\n",
       "    .dataframe tbody tr th {\n",
       "        vertical-align: top;\n",
       "    }\n",
       "\n",
       "    .dataframe thead th {\n",
       "        text-align: right;\n",
       "    }\n",
       "</style>\n",
       "<table border=\"1\" class=\"dataframe\">\n",
       "  <thead>\n",
       "    <tr style=\"text-align: right;\">\n",
       "      <th></th>\n",
       "      <th>id</th>\n",
       "      <th>age</th>\n",
       "      <th>gender</th>\n",
       "      <th>email</th>\n",
       "      <th>business_nature</th>\n",
       "      <th>company</th>\n",
       "      <th>position</th>\n",
       "      <th>payment_method</th>\n",
       "      <th>targets</th>\n",
       "      <th>first_name</th>\n",
       "      <th>last_name</th>\n",
       "      <th>target_mean</th>\n",
       "      <th>target_count</th>\n",
       "      <th>target_stdv</th>\n",
       "    </tr>\n",
       "  </thead>\n",
       "  <tbody>\n",
       "    <tr>\n",
       "      <th>8419</th>\n",
       "      <td>8419</td>\n",
       "      <td>54</td>\n",
       "      <td>Female</td>\n",
       "      <td>123.com</td>\n",
       "      <td>OTHER</td>\n",
       "      <td>迪士尼</td>\n",
       "      <td>樂園服務</td>\n",
       "      <td>unknown</td>\n",
       "      <td>[991898262.6]</td>\n",
       "      <td>Lyda</td>\n",
       "      <td>Kadner</td>\n",
       "      <td>9.918983e+08</td>\n",
       "      <td>1</td>\n",
       "      <td>0.000000</td>\n",
       "    </tr>\n",
       "    <tr>\n",
       "      <th>7129</th>\n",
       "      <td>7129</td>\n",
       "      <td>56</td>\n",
       "      <td>Male</td>\n",
       "      <td>NaN</td>\n",
       "      <td>OTHER</td>\n",
       "      <td>怡富中港物流有限公司</td>\n",
       "      <td>BOSS</td>\n",
       "      <td>unknown</td>\n",
       "      <td>[714431.35, 724552.68]</td>\n",
       "      <td>Louie</td>\n",
       "      <td>Grindstaff</td>\n",
       "      <td>7.194920e+05</td>\n",
       "      <td>2</td>\n",
       "      <td>5060.665000</td>\n",
       "    </tr>\n",
       "    <tr>\n",
       "      <th>7131</th>\n",
       "      <td>7131</td>\n",
       "      <td>44</td>\n",
       "      <td>Female</td>\n",
       "      <td>hotmail.com</td>\n",
       "      <td>OTHER</td>\n",
       "      <td>怡彩集團有限公司</td>\n",
       "      <td>自僱美容</td>\n",
       "      <td>B</td>\n",
       "      <td>[432182.57, 424819.03, 424477.13, 430278.01]</td>\n",
       "      <td>Lucia</td>\n",
       "      <td>Muhl</td>\n",
       "      <td>4.279392e+05</td>\n",
       "      <td>4</td>\n",
       "      <td>3361.458414</td>\n",
       "    </tr>\n",
       "  </tbody>\n",
       "</table>\n",
       "</div>"
      ],
      "text/plain": [
       "        id  age  gender        email business_nature     company position  \\\n",
       "8419  8419   54  Female      123.com           OTHER         迪士尼     樂園服務   \n",
       "7129  7129   56    Male          NaN           OTHER  怡富中港物流有限公司     BOSS   \n",
       "7131  7131   44  Female  hotmail.com           OTHER    怡彩集團有限公司     自僱美容   \n",
       "\n",
       "     payment_method                                       targets first_name  \\\n",
       "8419        unknown                                 [991898262.6]       Lyda   \n",
       "7129        unknown                        [714431.35, 724552.68]      Louie   \n",
       "7131              B  [432182.57, 424819.03, 424477.13, 430278.01]      Lucia   \n",
       "\n",
       "       last_name   target_mean  target_count  target_stdv  \n",
       "8419      Kadner  9.918983e+08             1     0.000000  \n",
       "7129  Grindstaff  7.194920e+05             2  5060.665000  \n",
       "7131        Muhl  4.279392e+05             4  3361.458414  "
      ]
     },
     "execution_count": 15,
     "metadata": {},
     "output_type": "execute_result"
    }
   ],
   "source": [
    "cust_df_copy_2.nlargest(n = 3, columns = 'target_mean')"
   ]
  },
  {
   "cell_type": "markdown",
   "id": "5a01b6e8",
   "metadata": {},
   "source": [
    "Maintaining her record in the dataset would skew our visualizations. Consider how her record skews the visualization below. Note, Kadner is 54 years old."
   ]
  },
  {
   "cell_type": "code",
   "execution_count": 16,
   "id": "d8e78b64",
   "metadata": {},
   "outputs": [
    {
     "data": {
      "text/plain": [
       "Text(0.5, 0, 'Age')"
      ]
     },
     "execution_count": 16,
     "metadata": {},
     "output_type": "execute_result"
    },
    {
     "data": {
      "image/png": "[encoded data removed]",
      "text/plain": [
       "<Figure size 432x288 with 1 Axes>"
      ]
     },
     "metadata": {
      "needs_background": "light"
     },
     "output_type": "display_data"
    }
   ],
   "source": [
    "age = pd.cut(x = cust_df_copy_2['age'], bins = [18, 25, 35, 45, 55, 65])\n",
    "age_target = cust_df_copy_2.pivot_table(values = 'target_mean', index = [age])\n",
    "\n",
    "age_target.plot.bar()\n",
    "plt.title('Average Target Value by Age Group')\n",
    "plt.ylabel('Average Target Value')\n",
    "plt.xlabel('Age')"
   ]
  },
  {
   "cell_type": "markdown",
   "id": "9fe7cc8b",
   "metadata": {},
   "source": [
    "By dropping her record, the graph above would appear as so:"
   ]
  },
  {
   "cell_type": "code",
   "execution_count": 17,
   "id": "ee6d4995",
   "metadata": {},
   "outputs": [
    {
     "data": {
      "text/plain": [
       "Text(0.5, 0, 'Age')"
      ]
     },
     "execution_count": 17,
     "metadata": {},
     "output_type": "execute_result"
    },
    {
     "data": {
      "image/png": "[encoded data removed]",
      "text/plain": [
       "<Figure size 432x288 with 1 Axes>"
      ]
     },
     "metadata": {
      "needs_background": "light"
     },
     "output_type": "display_data"
    }
   ],
   "source": [
    "# removes Kadner from dataset\n",
    "cust_df_copy_2 = cust_df_copy_2.drop(labels = 8419)\n",
    "\n",
    "age = pd.cut(x = cust_df_copy_2['age'], bins = [18, 25, 35, 45, 55, 65])\n",
    "age_target = cust_df_copy_2.pivot_table(values = 'target_mean', index = [age])\n",
    "\n",
    "age_target.plot.bar()\n",
    "plt.title('Average Target Value by Age Group')\n",
    "plt.ylabel('Average Target Value')\n",
    "plt.xlabel('Age')"
   ]
  },
  {
   "cell_type": "markdown",
   "id": "182232ba",
   "metadata": {},
   "source": [
    "# Summarize the 'Customer' Dataset"
   ]
  },
  {
   "cell_type": "markdown",
   "id": "49016d6a",
   "metadata": {},
   "source": [
    "Now that the customer dataset has been cleansed and aggregate values have been created (e.g.; target_mean), we can begin to analyze and summarize our findings."
   ]
  },
  {
   "cell_type": "markdown",
   "id": "d0a2a27f",
   "metadata": {},
   "source": [
    "Let's analyze the data by approaching it from a high-level. We'll take the following top-down approach from the aggregate to customer level:\n",
    "\n",
    "    1. Analysis of data by business nature (e.g.; Top Target Values by Industry)\n",
    "    2. Analysis of data by payment method (e.g.; Breakdown of Payment Methods among Customers)\n",
    "    3. Analysis of data by age generation of customers (e.g.; Average Target Value by Age Bin)\n",
    "    4. Analysis of data by gender (e.g.; % Total Targets by Gender)\n",
    "    5. Analysis of data by customer (e.g.; Top N Customers by Average Target Value)"
   ]
  },
  {
   "cell_type": "markdown",
   "id": "e3393362",
   "metadata": {},
   "source": [
    "-------------------------------------------------------------------------------------------------------------------------------"
   ]
  },
  {
   "cell_type": "markdown",
   "id": "f1f3c43d",
   "metadata": {},
   "source": [
    "1. Analysis of Data by Business Nature/Industry: Breakdown of Total Target Value by Industry"
   ]
  },
  {
   "cell_type": "code",
   "execution_count": 18,
   "id": "5fcde5ca",
   "metadata": {},
   "outputs": [
    {
     "data": {
      "text/html": [
       "<div>\n",
       "<style scoped>\n",
       "    .dataframe tbody tr th:only-of-type {\n",
       "        vertical-align: middle;\n",
       "    }\n",
       "\n",
       "    .dataframe tbody tr th {\n",
       "        vertical-align: top;\n",
       "    }\n",
       "\n",
       "    .dataframe thead th {\n",
       "        text-align: right;\n",
       "    }\n",
       "</style>\n",
       "<table border=\"1\" class=\"dataframe\">\n",
       "  <thead>\n",
       "    <tr style=\"text-align: right;\">\n",
       "      <th></th>\n",
       "      <th>sum_targets</th>\n",
       "      <th>%_targets</th>\n",
       "    </tr>\n",
       "    <tr>\n",
       "      <th>business_nature</th>\n",
       "      <th></th>\n",
       "      <th></th>\n",
       "    </tr>\n",
       "  </thead>\n",
       "  <tbody>\n",
       "    <tr>\n",
       "      <th>OTHER</th>\n",
       "      <td>3.173979e+07</td>\n",
       "      <td>11.428550</td>\n",
       "    </tr>\n",
       "    <tr>\n",
       "      <th>RETAIL / WHOLESALE</th>\n",
       "      <td>2.784890e+07</td>\n",
       "      <td>10.027558</td>\n",
       "    </tr>\n",
       "    <tr>\n",
       "      <th>CONSTRUCTION</th>\n",
       "      <td>2.418136e+07</td>\n",
       "      <td>8.706987</td>\n",
       "    </tr>\n",
       "    <tr>\n",
       "      <th>FOOD SERVICES</th>\n",
       "      <td>2.251894e+07</td>\n",
       "      <td>8.108400</td>\n",
       "    </tr>\n",
       "    <tr>\n",
       "      <th>BANK / FINANCE</th>\n",
       "      <td>1.925308e+07</td>\n",
       "      <td>6.932461</td>\n",
       "    </tr>\n",
       "    <tr>\n",
       "      <th>TRANSPORTATION</th>\n",
       "      <td>1.512843e+07</td>\n",
       "      <td>5.447295</td>\n",
       "    </tr>\n",
       "    <tr>\n",
       "      <th>GOVERNMENT</th>\n",
       "      <td>1.395627e+07</td>\n",
       "      <td>5.025237</td>\n",
       "    </tr>\n",
       "    <tr>\n",
       "      <th>IT</th>\n",
       "      <td>1.228342e+07</td>\n",
       "      <td>4.422893</td>\n",
       "    </tr>\n",
       "    <tr>\n",
       "      <th>PROFESSIONAL SERVICES / CONSULTATION</th>\n",
       "      <td>1.084715e+07</td>\n",
       "      <td>3.905733</td>\n",
       "    </tr>\n",
       "    <tr>\n",
       "      <th>EDUCATION</th>\n",
       "      <td>1.051020e+07</td>\n",
       "      <td>3.784408</td>\n",
       "    </tr>\n",
       "  </tbody>\n",
       "</table>\n",
       "</div>"
      ],
      "text/plain": [
       "                                       sum_targets  %_targets\n",
       "business_nature                                              \n",
       "OTHER                                 3.173979e+07  11.428550\n",
       "RETAIL / WHOLESALE                    2.784890e+07  10.027558\n",
       "CONSTRUCTION                          2.418136e+07   8.706987\n",
       "FOOD SERVICES                         2.251894e+07   8.108400\n",
       "BANK / FINANCE                        1.925308e+07   6.932461\n",
       "TRANSPORTATION                        1.512843e+07   5.447295\n",
       "GOVERNMENT                            1.395627e+07   5.025237\n",
       "IT                                    1.228342e+07   4.422893\n",
       "PROFESSIONAL SERVICES / CONSULTATION  1.084715e+07   3.905733\n",
       "EDUCATION                             1.051020e+07   3.784408"
      ]
     },
     "execution_count": 18,
     "metadata": {},
     "output_type": "execute_result"
    }
   ],
   "source": [
    "# creates a pivot table with the sum of targets (avg. by customer), and the % of total for each business_nature (aka industry)\n",
    "business_tbl = pd.pivot_table(cust_df_copy_2[['business_nature', 'target_mean']], index = ['business_nature'], aggfunc = 'sum')\n",
    "business_tbl['%_target'] = (business_tbl['target_mean']/business_tbl['target_mean'].sum())*100\n",
    "\n",
    "# renames columns\n",
    "business_tbl.columns = ['sum_targets', '%_targets']\n",
    "\n",
    "# returns the top N industries in descending order based on shared % of total target value among all industries \n",
    "business_tbl = business_tbl.nlargest(n = 10, columns = '%_targets')\n",
    "business_tbl"
   ]
  },
  {
   "cell_type": "markdown",
   "id": "ea2a4d53",
   "metadata": {},
   "source": [
    "In viewing the pivot table above, you can notice the industry, \"Other\", represents the largest share in the total target value (avg. target at customer level). Since \"Other\" is arbitrary, the dataset could be enhanced by assinging customers' with an industry of \"Other\" an actual industry; this point will be touched on in the summary section of the notebook."
   ]
  },
  {
   "cell_type": "markdown",
   "id": "dd57fe2b",
   "metadata": {},
   "source": [
    "Let's now graph the total targets for each industry to see the data visually:"
   ]
  },
  {
   "cell_type": "code",
   "execution_count": 19,
   "id": "2a336dd6",
   "metadata": {},
   "outputs": [
    {
     "data": {
      "text/plain": [
       "Text(0.5, 1.0, 'Total Target Value by Business Nature')"
      ]
     },
     "execution_count": 19,
     "metadata": {},
     "output_type": "execute_result"
    },
    {
     "data": {
      "image/png": "[encoded data removed]",
      "text/plain": [
       "<Figure size 432x288 with 1 Axes>"
      ]
     },
     "metadata": {
      "needs_background": "light"
     },
     "output_type": "display_data"
    }
   ],
   "source": [
    "business_tbl_slice = business_tbl['sum_targets']\n",
    "business_tbl_slice.plot.bar()\n",
    "plt.ylabel('Total Target Value')\n",
    "plt.xlabel('')\n",
    "plt.title('Total Target Value by Business Nature')"
   ]
  },
  {
   "cell_type": "markdown",
   "id": "ea978252",
   "metadata": {},
   "source": [
    "Besides the \"Other\" category, it's apparent that a majority of the customers are aligned with the \"Retail / Wholesale\" industry based on the total target value among industries. However, other industries like \"Food Services\" follow closely behind indicating that the customer base is broad and diversified."
   ]
  },
  {
   "cell_type": "markdown",
   "id": "a240c00a",
   "metadata": {},
   "source": [
    "-------------------------------------------------------------------------------------------------------------------------------"
   ]
  },
  {
   "cell_type": "markdown",
   "id": "8e13f720",
   "metadata": {},
   "source": [
    "2. Analysis by Payment Method"
   ]
  },
  {
   "cell_type": "markdown",
   "id": "2e2dbdc1",
   "metadata": {},
   "source": [
    "Using the feature/column \"payment_method\", let's try to understand how the client's customers are paying. While we do not have ample information on what payment method means, we may be able to make some inferences based on the results. We will create a pie chart to understand the breakdown among the different payment methods customers use."
   ]
  },
  {
   "cell_type": "code",
   "execution_count": 20,
   "id": "79780e84",
   "metadata": {},
   "outputs": [],
   "source": [
    "# creates and returns a groupby object for count of payment methods\n",
    "df_payment = cust_df_copy_2.groupby('payment_method')['payment_method'].count()"
   ]
  },
  {
   "cell_type": "code",
   "execution_count": 21,
   "id": "7aaae893",
   "metadata": {},
   "outputs": [
    {
     "data": {
      "text/plain": [
       "payment_method\n",
       "A          4347\n",
       "B           771\n",
       "C           747\n",
       "unknown    3323\n",
       "Name: payment_method, dtype: int64"
      ]
     },
     "execution_count": 21,
     "metadata": {},
     "output_type": "execute_result"
    }
   ],
   "source": [
    "df_payment"
   ]
  },
  {
   "cell_type": "code",
   "execution_count": 22,
   "id": "594283e1",
   "metadata": {},
   "outputs": [
    {
     "data": {
      "text/plain": [
       "Text(0.5, 1.0, 'Customer Payment Method Breakdown')"
      ]
     },
     "execution_count": 22,
     "metadata": {},
     "output_type": "execute_result"
    },
    {
     "data": {
      "image/png": "[encoded data removed]",
      "text/plain": [
       "<Figure size 432x288 with 1 Axes>"
      ]
     },
     "metadata": {},
     "output_type": "display_data"
    }
   ],
   "source": [
    "# creates labels and colors that will be applied to the eventual pie chart\n",
    "pay_labels = ['Method A', 'Method B', 'Method C', 'Unknown']\n",
    "pay_colors = ['royalblue','lightblue','lightsteelblue','gray']\n",
    "\n",
    "# creates pie chart and formats slice values as one decimal point %'s\n",
    "plt.pie(x = df_payment, labels = pay_labels, autopct = '%1.1f%%', colors = pay_colors)\n",
    "plt.title('Customer Payment Method Breakdown')"
   ]
  },
  {
   "cell_type": "markdown",
   "id": "8fa01ecf",
   "metadata": {},
   "source": [
    "Viewing the pie chart above, nearly 50% (4347) of the customers are paying the client using payment method A. Payment methods B and C share 16% of transaction types at 1518. A little over a third of the customers in the dataset do not have an assigned payment method and appear as 'Unknown'."
   ]
  },
  {
   "cell_type": "markdown",
   "id": "50c90865",
   "metadata": {},
   "source": [
    "--------------------------------------------------------------------------------------------------------------------------------"
   ]
  },
  {
   "cell_type": "markdown",
   "id": "919fa995",
   "metadata": {},
   "source": [
    "3. Analysis by Age Generation: Average Target Value by Age Group"
   ]
  },
  {
   "cell_type": "markdown",
   "id": "612a9923",
   "metadata": {},
   "source": [
    "Now, let's analyze the customer base by age group. We'll use a bar chart to depict the average target value by age generation. This will give us better insight into demographics and how age correlates with activity:"
   ]
  },
  {
   "cell_type": "code",
   "execution_count": 59,
   "id": "3c15df7a",
   "metadata": {},
   "outputs": [
    {
     "data": {
      "text/plain": [
       "Text(0.5, 0, 'Age')"
      ]
     },
     "execution_count": 59,
     "metadata": {},
     "output_type": "execute_result"
    },
    {
     "data": {
      "image/png": "[encoded data removed]",
      "text/plain": [
       "<Figure size 432x288 with 1 Axes>"
      ]
     },
     "metadata": {
      "needs_background": "light"
     },
     "output_type": "display_data"
    }
   ],
   "source": [
    "# print('Oldest Customer:', cust_df_copy_2['age'].nlargest(n = 1)) <-- confirmed oldest customer is 65\n",
    "# print('Youngest Customer:', cust_df_copy_2['age'].nsmallest(n = 1)) <-- confirmed youngest customer is 18\n",
    "\n",
    "# age variable creates bins for customer age ranges\n",
    "age = pd.cut(x = cust_df_copy_2['age'], bins = [18, 25, 35, 45, 55, 65])\n",
    "age_target = cust_df_copy_2.pivot_table(values = 'target_mean', index = [age])\n",
    "\n",
    "age_target.plot.bar()\n",
    "plt.title('Average Target Value by Age Group')\n",
    "plt.ylabel('Average Target Value')\n",
    "plt.xlabel('Age')"
   ]
  },
  {
   "cell_type": "markdown",
   "id": "81ebcdd2",
   "metadata": {},
   "source": [
    "Viewing the chart above, its evident that clients 35 years and older represent the most active customers based on average target value by age range."
   ]
  },
  {
   "cell_type": "markdown",
   "id": "3bcc3fa8",
   "metadata": {},
   "source": [
    "-------------------------------------------------------------------------------------------------------------------------------"
   ]
  },
  {
   "cell_type": "markdown",
   "id": "92c9e367",
   "metadata": {},
   "source": [
    "4. Analysis of Data by Gender: % Total Targets by Gender"
   ]
  },
  {
   "cell_type": "markdown",
   "id": "d7ec23ef",
   "metadata": {},
   "source": [
    "Let's now visualize the customer base by gender to further investigate the demographics of the problem set. We'll breakdown each gender's percentage (%) share in total target value among the dataset:"
   ]
  },
  {
   "cell_type": "code",
   "execution_count": 60,
   "id": "4d5bfebe",
   "metadata": {},
   "outputs": [
    {
     "data": {
      "text/html": [
       "<div>\n",
       "<style scoped>\n",
       "    .dataframe tbody tr th:only-of-type {\n",
       "        vertical-align: middle;\n",
       "    }\n",
       "\n",
       "    .dataframe tbody tr th {\n",
       "        vertical-align: top;\n",
       "    }\n",
       "\n",
       "    .dataframe thead th {\n",
       "        text-align: right;\n",
       "    }\n",
       "</style>\n",
       "<table border=\"1\" class=\"dataframe\">\n",
       "  <thead>\n",
       "    <tr style=\"text-align: right;\">\n",
       "      <th></th>\n",
       "      <th>sum_targets</th>\n",
       "      <th>%_targets</th>\n",
       "    </tr>\n",
       "    <tr>\n",
       "      <th>gender</th>\n",
       "      <th></th>\n",
       "      <th></th>\n",
       "    </tr>\n",
       "  </thead>\n",
       "  <tbody>\n",
       "    <tr>\n",
       "      <th>Female</th>\n",
       "      <td>5.938649e+07</td>\n",
       "      <td>21.383304</td>\n",
       "    </tr>\n",
       "    <tr>\n",
       "      <th>Male</th>\n",
       "      <td>2.131290e+08</td>\n",
       "      <td>76.741400</td>\n",
       "    </tr>\n",
       "    <tr>\n",
       "      <th>unknown</th>\n",
       "      <td>5.208143e+06</td>\n",
       "      <td>1.875297</td>\n",
       "    </tr>\n",
       "  </tbody>\n",
       "</table>\n",
       "</div>"
      ],
      "text/plain": [
       "          sum_targets  %_targets\n",
       "gender                          \n",
       "Female   5.938649e+07  21.383304\n",
       "Male     2.131290e+08  76.741400\n",
       "unknown  5.208143e+06   1.875297"
      ]
     },
     "execution_count": 60,
     "metadata": {},
     "output_type": "execute_result"
    }
   ],
   "source": [
    "# generates a pivot table and applies the aggregate function 'sum' to the feature 'target_mean'\n",
    "gender_tbl = pd.pivot_table(cust_df_copy_2[['gender', 'target_mean']], index = ['gender'], aggfunc = 'sum')\n",
    "\n",
    "# creates a new series in the dataframe for each gender's percent of total\n",
    "gender_tbl['%_target'] = (gender_tbl['target_mean']/gender_tbl['target_mean'].sum())*100\n",
    "\n",
    "# renames the columns\n",
    "gender_tbl.columns = ['sum_targets', '%_targets']\n",
    "\n",
    "gender_tbl"
   ]
  },
  {
   "cell_type": "markdown",
   "id": "570e3366",
   "metadata": {},
   "source": [
    "In the pivot table above, we can see that male customers represent ~77% of total targets while females represent ~21%. Males representing more than three quarters of total targets is substantial and could provide guidance on future decisions."
   ]
  },
  {
   "cell_type": "markdown",
   "id": "2a0c034b",
   "metadata": {},
   "source": [
    "-------------------------------------------------------------------------------------------------------------------------------"
   ]
  },
  {
   "cell_type": "markdown",
   "id": "bf676abf",
   "metadata": {},
   "source": [
    "5. Analysis of Data by Customer: Top 10 Customers by Average Target Value"
   ]
  },
  {
   "cell_type": "markdown",
   "id": "ddef1a48",
   "metadata": {},
   "source": [
    "Finally, let's analyze the data at the lowest level, by customer. We'll create a horizontal bar chart that will show the the top 10 customers based on average target value."
   ]
  },
  {
   "cell_type": "code",
   "execution_count": 25,
   "id": "cb0af8a0",
   "metadata": {},
   "outputs": [
    {
     "data": {
      "text/plain": [
       "Text(0.5, 0, 'Average Target Value')"
      ]
     },
     "execution_count": 25,
     "metadata": {},
     "output_type": "execute_result"
    },
    {
     "data": {
      "image/png": "[encoded data removed]",
      "text/plain": [
       "<Figure size 432x288 with 1 Axes>"
      ]
     },
     "metadata": {
      "needs_background": "light"
     },
     "output_type": "display_data"
    }
   ],
   "source": [
    "# creates new column 'full_name'\n",
    "cust_df_copy_2['full_name'] = cust_df_copy_2[['first_name', 'last_name']].apply(' '.join, axis = 1)\n",
    "\n",
    "# returns top 10 customers by 'target_mean'\n",
    "top_targets = cust_df_copy_2[['full_name', 'target_mean']].nlargest(n = 10, columns = 'target_mean')\n",
    "\n",
    "# orders top 10 customers by 'target_mean' in descending order\n",
    "top_targets.sort_values(by = 'target_mean', inplace = True)\n",
    "\n",
    "plt.barh(top_targets['full_name'], top_targets['target_mean'])\n",
    "plt.title('Top 10 Customers by Target Average')\n",
    "plt.xlabel('Average Target Value')"
   ]
  },
  {
   "cell_type": "markdown",
   "id": "0586e2a5",
   "metadata": {},
   "source": [
    "Viewing the horizontal bar chart above, it appears that the customer Louie Grindstaff represents the top customer by average target value. Grindstaff's average is nearly double the next customer, Lucia Muhl. This raises a question - is this an instance of another anamoly in the data or is Grindstaff an exceptional customer? Given the margin between Grindstaff and the nearest customer is not as great as Lyda Kadner's (customer removed from dataset), we'll retain Grindstaff in the dataset."
   ]
  },
  {
   "cell_type": "markdown",
   "id": "9456fa04",
   "metadata": {},
   "source": [
    "# Summary of Customers: Inferences, Improvements, & Extensions "
   ]
  },
  {
   "cell_type": "markdown",
   "id": "da23f907",
   "metadata": {},
   "source": [
    "After having analyzed the customer dataset, we can infer the following:\n",
    "\n",
    "1. Customers aligned with the industry \"Retail / Wholesale\" represent the largest share in total target value at ~10% (excluding \"Other\") with other industries following close behind.\n",
    "    - Other industries following closely behind indicates that the customer base is broad and diversified. \n",
    "    - If we are to assume target value represents sales/revenue, the industry diversification can provide ample support in financial downturns.\n",
    "    - A broad market footprint indicates there are potential growth opportunities among different markets.\n",
    "    \n",
    "\n",
    "2. Nearly 50%, or 4347, customers in the dataset utilize payment method A to pay the client. This is a substantial value and may allow us to make the following inference:\n",
    "    - We could infer that payment method A represents a transactional method with favorable terms, such as low transaction \n",
    "       fees or low interest rates (if the product/service is procured on credit).\n",
    "\n",
    "  Unfortunately, a little over a third of the customers in the dataset do not have an assigned payment method and appear as \n",
    "  'Unknown' after having applied the Data_Cleaner method. This suggests one or more of the following:\n",
    "    - There is missing data.\n",
    "    - Customers are using a payment method that is not included as an option in the customer questionnaire.\n",
    "    - Missing values may represent transactions using hard currency (dollars, shekels, etc.) as opposed to a digital exchange,\n",
    "    and thus are not tracked/recorded.\n",
    "\n",
    "\n",
    "3. Customers 35 years and older represent the most active customers based on average target value by age range; males represent ~77% of the total value in targets. \n",
    "    - Without information on the product or service customers are purchasing, it is difficult to make any major inferences. For example, if we had more information on the product/service, we could determine if marketing to more females is a good financial decision. \n",
    "    - If the customer database is oriented around corporate sales (aka B2B), older males dominating the customer dataset is \n",
    "    indicative of the corporate world. \n",
    "    - To expound further, procurement/purchasing and supply chain functions in organizations do tend to skew towards older men. This could explain the findings.\n",
    "    \n",
    "    \n",
    "\n",
    "4. The customer Louie Grindstaff represents the top customer by average target value"
   ]
  },
  {
   "cell_type": "markdown",
   "id": "b33be333",
   "metadata": {},
   "source": [
    "There are multiple ways this dataset could be improved. A non-exhaustive list includes:\n",
    "\n",
    "- Create a more explicit column name for the feature, \"target\".\n",
    "    - It is NOT clear what this column represents. \n",
    "    - Do target values represent customer spend? Spend by month, quarter, or year? Or does target represent something for Accounts Payable such as the amount a customer owes the client in a certain pay period?\n",
    "    \n",
    "    \n",
    "- If the column \"target\" represents monetary values, there needs to be another column to indicate the currency of each record's target values. There are a number of Chinese customers in the dataset. Are their target values in Yuan, or have they been converted to USD?\n",
    "    \n",
    " \n",
    "- Cleanse features and ensure tabs (\\t), new lines (\\n) are removed from cells. This WILL impact aggreagation results if they are not caught\n",
    "\n",
    "\n",
    "- Nice to have: utilize the googletrans API to translate company names and other values not in English (or the preferred language), or request the customers to submit suitable translations. Since the dataset has a large number of records and googleTrans caps the number of API calls, I am unable to translate the entire set. The client could translate features of the dataset by doing one of the following:\n",
    "    1. Calling the API on multiple batches of the dataset, each of which would be at or under googleTrans' threshold for the\n",
    "    number of API calls.\n",
    "    2. Converting the feature into one string, translating the entire string, separating the string, and returning a translated \n",
    "    series.\n",
    "    3. Paying for Google's service which shouldn't include a cap on the number of API calls"
   ]
  },
  {
   "cell_type": "markdown",
   "id": "7af9ed62",
   "metadata": {},
   "source": [
    "If I could, I would take the following features from the web to improve the dataset:\n",
    "\n",
    "1. Business Function of the Customer\n",
    "    - If possible, having the business function for record (Engineering, Finance, HR, etc.) would allow the owner of the dataset to determine how best to approach his/her customers.\n",
    "    - This data could likely be sourced from LinkedIn or another professional social media site and related to the data based on the full name and company of the employee\n",
    "    - One caveat/limitation we could face is the lack of automation. This particular data may not exist in a database and could require manual input. This required labor may not justify sourcing the data.\n",
    "\n",
    "\n",
    "2. Geographic Location\n",
    "    - The geographic location of the employee, or employee's company, would be useful in understanding the past/current domestic and geographical breakdown of the customer base. This data could help inform region-based marketing and pricing strategies (assuming the \"targets\" are sales/revenue data).\n",
    "    - Sourcing the geographic location for each company would be relatively easy, and there likely exists a database with company headquarters. This data could be related to the customer dataset using the company names.\n",
    "    - One caveat/limitation we could face is the ability to source data at the customer level. While it is easy to determine the location of companies, it is not easy to determine an employee's location. Company location may not be useful. For example, if John Smith works for a multi-national corporation, his job location may not be the company's main HQ. Due to regional disparities, we cannot assume two customers of the same company but different locations will interact the same with the product/service (assuming the \"targets\" are sales/revenue data).\n",
    "\n",
    "\n",
    "3. Additional Consumer Purchase Data\n",
    "    - Assuming targets represent sales/revenue data, relating other customer purchase data to the dataset could be valuable in developing strategies around market entry and future product/service development.\n",
    "    - One caveat/limitation is the sensitivity and cost (both financial and reputational) of sourcing this data. Data security, safety and integrity is critical to maintaining a brand image."
   ]
  },
  {
   "cell_type": "markdown",
   "id": "b6c34895",
   "metadata": {},
   "source": [
    "# Import 'Company' Dataset"
   ]
  },
  {
   "cell_type": "markdown",
   "id": "192291af",
   "metadata": {},
   "source": [
    "Let's import the 'company' data set which is stored as an Excel file:"
   ]
  },
  {
   "cell_type": "code",
   "execution_count": 26,
   "id": "6746ed08",
   "metadata": {},
   "outputs": [
    {
     "data": {
      "text/html": [
       "<div>\n",
       "<style scoped>\n",
       "    .dataframe tbody tr th:only-of-type {\n",
       "        vertical-align: middle;\n",
       "    }\n",
       "\n",
       "    .dataframe tbody tr th {\n",
       "        vertical-align: top;\n",
       "    }\n",
       "\n",
       "    .dataframe thead th {\n",
       "        text-align: right;\n",
       "    }\n",
       "</style>\n",
       "<table border=\"1\" class=\"dataframe\">\n",
       "  <thead>\n",
       "    <tr style=\"text-align: right;\">\n",
       "      <th></th>\n",
       "      <th>company_id</th>\n",
       "      <th>name</th>\n",
       "      <th>domain</th>\n",
       "      <th>business_nature</th>\n",
       "      <th>employee_number</th>\n",
       "      <th>type</th>\n",
       "      <th>market_cap</th>\n",
       "    </tr>\n",
       "  </thead>\n",
       "  <tbody>\n",
       "    <tr>\n",
       "      <th>0</th>\n",
       "      <td>\"00123122\"</td>\n",
       "      <td>HSBC</td>\n",
       "      <td>www.hsbc.com/</td>\n",
       "      <td>banking</td>\n",
       "      <td>226059</td>\n",
       "      <td>public</td>\n",
       "      <td>78.45billion</td>\n",
       "    </tr>\n",
       "    <tr>\n",
       "      <th>1</th>\n",
       "      <td>878434523</td>\n",
       "      <td>AIA</td>\n",
       "      <td>www.aia.com</td>\n",
       "      <td>insurance</td>\n",
       "      <td>0</td>\n",
       "      <td>public</td>\n",
       "      <td>1.12T</td>\n",
       "    </tr>\n",
       "    <tr>\n",
       "      <th>2</th>\n",
       "      <td>3423656</td>\n",
       "      <td>MTR</td>\n",
       "      <td>http://www.mtr.com.hk/en/customer/main/index.html</td>\n",
       "      <td>Railway</td>\n",
       "      <td>28035</td>\n",
       "      <td>public</td>\n",
       "      <td>271B</td>\n",
       "    </tr>\n",
       "    <tr>\n",
       "      <th>3</th>\n",
       "      <td>452352</td>\n",
       "      <td>PCCW</td>\n",
       "      <td>http://www.pccw.com/</td>\n",
       "      <td>communications</td>\n",
       "      <td>22800</td>\n",
       "      <td>public</td>\n",
       "      <td>31.6001B</td>\n",
       "    </tr>\n",
       "    <tr>\n",
       "      <th>4</th>\n",
       "      <td>4342ff34</td>\n",
       "      <td>HKT</td>\n",
       "      <td>hkt.com</td>\n",
       "      <td>Telecom</td>\n",
       "      <td>\"15900.00\"</td>\n",
       "      <td>public</td>\n",
       "      <td>$80.45B</td>\n",
       "    </tr>\n",
       "    <tr>\n",
       "      <th>5</th>\n",
       "      <td>534534</td>\n",
       "      <td>Manulife</td>\n",
       "      <td>https://www.manulife.com/</td>\n",
       "      <td>insurance</td>\n",
       "      <td>34000</td>\n",
       "      <td>public</td>\n",
       "      <td>$47.4 billion</td>\n",
       "    </tr>\n",
       "    <tr>\n",
       "      <th>6</th>\n",
       "      <td>232131</td>\n",
       "      <td>Cathay Pacific Airways</td>\n",
       "      <td>www.cathaypacific.com</td>\n",
       "      <td>airline</td>\n",
       "      <td>35000</td>\n",
       "      <td>public</td>\n",
       "      <td>$42.29 B</td>\n",
       "    </tr>\n",
       "    <tr>\n",
       "      <th>7</th>\n",
       "      <td>123555342</td>\n",
       "      <td>Hong Kong Police Force</td>\n",
       "      <td>https://www.police.gov.hk</td>\n",
       "      <td>law enforcement</td>\n",
       "      <td>36681</td>\n",
       "      <td>government</td>\n",
       "      <td>NaN</td>\n",
       "    </tr>\n",
       "    <tr>\n",
       "      <th>8</th>\n",
       "      <td>621621320</td>\n",
       "      <td>KPMG</td>\n",
       "      <td>home.kpmg</td>\n",
       "      <td>consulting</td>\n",
       "      <td>227000</td>\n",
       "      <td>NaN</td>\n",
       "      <td>NaN</td>\n",
       "    </tr>\n",
       "    <tr>\n",
       "      <th>9</th>\n",
       "      <td>998411df</td>\n",
       "      <td>HAECO</td>\n",
       "      <td>www.haeco.com</td>\n",
       "      <td>\\tAerospace</td>\n",
       "      <td>16641</td>\n",
       "      <td>public</td>\n",
       "      <td>NaN</td>\n",
       "    </tr>\n",
       "    <tr>\n",
       "      <th>10</th>\n",
       "      <td>df879987</td>\n",
       "      <td>Prudential</td>\n",
       "      <td>https://www.prudential.com/</td>\n",
       "      <td>insurance</td>\n",
       "      <td>41671</td>\n",
       "      <td>public</td>\n",
       "      <td>40.49B</td>\n",
       "    </tr>\n",
       "  </tbody>\n",
       "</table>\n",
       "</div>"
      ],
      "text/plain": [
       "    company_id                    name  \\\n",
       "0   \"00123122\"                    HSBC   \n",
       "1    878434523                     AIA   \n",
       "2      3423656                     MTR   \n",
       "3       452352                    PCCW   \n",
       "4     4342ff34                     HKT   \n",
       "5       534534                Manulife   \n",
       "6       232131  Cathay Pacific Airways   \n",
       "7    123555342  Hong Kong Police Force   \n",
       "8    621621320                    KPMG   \n",
       "9     998411df                   HAECO   \n",
       "10    df879987              Prudential   \n",
       "\n",
       "                                               domain  business_nature  \\\n",
       "0                                       www.hsbc.com/          banking   \n",
       "1                                         www.aia.com       insurance    \n",
       "2   http://www.mtr.com.hk/en/customer/main/index.html          Railway   \n",
       "3                                http://www.pccw.com/  communications    \n",
       "4                                             hkt.com          Telecom   \n",
       "5                           https://www.manulife.com/       insurance    \n",
       "6                               www.cathaypacific.com          airline   \n",
       "7                           https://www.police.gov.hk  law enforcement   \n",
       "8                                           home.kpmg      consulting    \n",
       "9                                       www.haeco.com      \\tAerospace   \n",
       "10                        https://www.prudential.com/        insurance   \n",
       "\n",
       "   employee_number        type     market_cap  \n",
       "0           226059      public   78.45billion  \n",
       "1                0      public          1.12T  \n",
       "2            28035      public           271B  \n",
       "3            22800      public       31.6001B  \n",
       "4       \"15900.00\"      public        $80.45B  \n",
       "5            34000      public  $47.4 billion  \n",
       "6            35000      public       $42.29 B  \n",
       "7            36681  government            NaN  \n",
       "8           227000         NaN            NaN  \n",
       "9            16641      public            NaN  \n",
       "10           41671      public         40.49B  "
      ]
     },
     "execution_count": 26,
     "metadata": {},
     "output_type": "execute_result"
    }
   ],
   "source": [
    "company_df = pd.read_excel('companies.xlsx')\n",
    "company_df"
   ]
  },
  {
   "cell_type": "markdown",
   "id": "76798aa7",
   "metadata": {},
   "source": [
    "Let's gather some general information on the company_df dataframe:"
   ]
  },
  {
   "cell_type": "code",
   "execution_count": 27,
   "id": "ae6eef74",
   "metadata": {},
   "outputs": [
    {
     "name": "stdout",
     "output_type": "stream",
     "text": [
      "<class 'pandas.core.frame.DataFrame'>\n",
      "RangeIndex: 11 entries, 0 to 10\n",
      "Data columns (total 7 columns):\n",
      " #   Column           Non-Null Count  Dtype \n",
      "---  ------           --------------  ----- \n",
      " 0   company_id       11 non-null     object\n",
      " 1   name             11 non-null     object\n",
      " 2   domain           11 non-null     object\n",
      " 3   business_nature  11 non-null     object\n",
      " 4   employee_number  11 non-null     object\n",
      " 5   type             10 non-null     object\n",
      " 6   market_cap       8 non-null      object\n",
      "dtypes: object(7)\n",
      "memory usage: 744.0+ bytes\n"
     ]
    }
   ],
   "source": [
    "company_df.info()"
   ]
  },
  {
   "cell_type": "markdown",
   "id": "9880bb75",
   "metadata": {},
   "source": [
    "In viewing the information on the company_df dataframe, its evident that there is missing data for a two of the fields: 'type' and 'market_cap'. Missing data is represented by the undefined value, NaN. These undefined values will be remediated in the following lines of code."
   ]
  },
  {
   "cell_type": "markdown",
   "id": "de98c8e9",
   "metadata": {},
   "source": [
    "Before beginning to cleanse the data, let's verify the field 'id' is primary key of the dataframe. This is important in case this dataframe would need to be joined to others. Note, the primary key for each company record must be unique."
   ]
  },
  {
   "cell_type": "code",
   "execution_count": 28,
   "id": "17e52868",
   "metadata": {},
   "outputs": [
    {
     "data": {
      "text/plain": [
       "True"
      ]
     },
     "execution_count": 28,
     "metadata": {},
     "output_type": "execute_result"
    }
   ],
   "source": [
    "company_df['company_id'].is_unique"
   ]
  },
  {
   "cell_type": "markdown",
   "id": "98120bb8",
   "metadata": {},
   "source": [
    "Since the above line of code evaluates to True and there are no undefined values, we could confidently use this field as the primary key in the future."
   ]
  },
  {
   "cell_type": "markdown",
   "id": "0d652878",
   "metadata": {},
   "source": [
    "# Utilizing the 'Data_Cleaner' Class to Cleanse the 'Company' Dataset"
   ]
  },
  {
   "cell_type": "markdown",
   "id": "75f5bc3e",
   "metadata": {},
   "source": [
    "To expedite process in cleansing the company dataframe, let's leverage some of the methods from the already defined \"Data_Cleaner\" class:"
   ]
  },
  {
   "cell_type": "code",
   "execution_count": 29,
   "id": "4628b225",
   "metadata": {},
   "outputs": [],
   "source": [
    "# passes company_df to create an object of the 'Data_Cleaner' class\n",
    "comp_df = Data_Cleaner(company_df)"
   ]
  },
  {
   "cell_type": "markdown",
   "id": "e9a2e8d2",
   "metadata": {},
   "source": [
    "First, let's replace undefined values, remove trailing/leading spaces, and uppercase series elements within the dataframe:"
   ]
  },
  {
   "cell_type": "code",
   "execution_count": 30,
   "id": "bdf5b13e",
   "metadata": {},
   "outputs": [],
   "source": [
    "# replaces undefined elements in series\n",
    "comp_df.fill_nan('type')\n",
    "comp_df.fill_nan('market_cap')\n",
    "\n",
    "# removes trailing/leading spaces and uppercases strings\n",
    "comp_df.remove_space_upper('name')\n",
    "comp_df.remove_space_upper('business_nature')\n",
    "comp_df.remove_space_upper('type')"
   ]
  },
  {
   "cell_type": "markdown",
   "id": "eebeebd6",
   "metadata": {},
   "source": [
    "Let's take a look at the dataframe now:"
   ]
  },
  {
   "cell_type": "code",
   "execution_count": 31,
   "id": "46a07964",
   "metadata": {},
   "outputs": [
    {
     "data": {
      "text/html": [
       "<div>\n",
       "<style scoped>\n",
       "    .dataframe tbody tr th:only-of-type {\n",
       "        vertical-align: middle;\n",
       "    }\n",
       "\n",
       "    .dataframe tbody tr th {\n",
       "        vertical-align: top;\n",
       "    }\n",
       "\n",
       "    .dataframe thead th {\n",
       "        text-align: right;\n",
       "    }\n",
       "</style>\n",
       "<table border=\"1\" class=\"dataframe\">\n",
       "  <thead>\n",
       "    <tr style=\"text-align: right;\">\n",
       "      <th></th>\n",
       "      <th>company_id</th>\n",
       "      <th>name</th>\n",
       "      <th>domain</th>\n",
       "      <th>business_nature</th>\n",
       "      <th>employee_number</th>\n",
       "      <th>type</th>\n",
       "      <th>market_cap</th>\n",
       "    </tr>\n",
       "  </thead>\n",
       "  <tbody>\n",
       "    <tr>\n",
       "      <th>0</th>\n",
       "      <td>\"00123122\"</td>\n",
       "      <td>HSBC</td>\n",
       "      <td>www.hsbc.com/</td>\n",
       "      <td>BANKING</td>\n",
       "      <td>226059</td>\n",
       "      <td>PUBLIC</td>\n",
       "      <td>78.45billion</td>\n",
       "    </tr>\n",
       "    <tr>\n",
       "      <th>1</th>\n",
       "      <td>878434523</td>\n",
       "      <td>AIA</td>\n",
       "      <td>www.aia.com</td>\n",
       "      <td>INSURANCE</td>\n",
       "      <td>0</td>\n",
       "      <td>PUBLIC</td>\n",
       "      <td>1.12T</td>\n",
       "    </tr>\n",
       "    <tr>\n",
       "      <th>2</th>\n",
       "      <td>3423656</td>\n",
       "      <td>MTR</td>\n",
       "      <td>http://www.mtr.com.hk/en/customer/main/index.html</td>\n",
       "      <td>RAILWAY</td>\n",
       "      <td>28035</td>\n",
       "      <td>PUBLIC</td>\n",
       "      <td>271B</td>\n",
       "    </tr>\n",
       "    <tr>\n",
       "      <th>3</th>\n",
       "      <td>452352</td>\n",
       "      <td>PCCW</td>\n",
       "      <td>http://www.pccw.com/</td>\n",
       "      <td>COMMUNICATIONS</td>\n",
       "      <td>22800</td>\n",
       "      <td>PUBLIC</td>\n",
       "      <td>31.6001B</td>\n",
       "    </tr>\n",
       "    <tr>\n",
       "      <th>4</th>\n",
       "      <td>4342ff34</td>\n",
       "      <td>HKT</td>\n",
       "      <td>hkt.com</td>\n",
       "      <td>TELECOM</td>\n",
       "      <td>\"15900.00\"</td>\n",
       "      <td>PUBLIC</td>\n",
       "      <td>$80.45B</td>\n",
       "    </tr>\n",
       "    <tr>\n",
       "      <th>5</th>\n",
       "      <td>534534</td>\n",
       "      <td>MANULIFE</td>\n",
       "      <td>https://www.manulife.com/</td>\n",
       "      <td>INSURANCE</td>\n",
       "      <td>34000</td>\n",
       "      <td>PUBLIC</td>\n",
       "      <td>$47.4 billion</td>\n",
       "    </tr>\n",
       "    <tr>\n",
       "      <th>6</th>\n",
       "      <td>232131</td>\n",
       "      <td>CATHAY PACIFIC AIRWAYS</td>\n",
       "      <td>www.cathaypacific.com</td>\n",
       "      <td>AIRLINE</td>\n",
       "      <td>35000</td>\n",
       "      <td>PUBLIC</td>\n",
       "      <td>$42.29 B</td>\n",
       "    </tr>\n",
       "    <tr>\n",
       "      <th>7</th>\n",
       "      <td>123555342</td>\n",
       "      <td>HONG KONG POLICE FORCE</td>\n",
       "      <td>https://www.police.gov.hk</td>\n",
       "      <td>LAW ENFORCEMENT</td>\n",
       "      <td>36681</td>\n",
       "      <td>GOVERNMENT</td>\n",
       "      <td>unknown</td>\n",
       "    </tr>\n",
       "    <tr>\n",
       "      <th>8</th>\n",
       "      <td>621621320</td>\n",
       "      <td>KPMG</td>\n",
       "      <td>home.kpmg</td>\n",
       "      <td>CONSULTING</td>\n",
       "      <td>227000</td>\n",
       "      <td>UNKNOWN</td>\n",
       "      <td>unknown</td>\n",
       "    </tr>\n",
       "    <tr>\n",
       "      <th>9</th>\n",
       "      <td>998411df</td>\n",
       "      <td>HAECO</td>\n",
       "      <td>www.haeco.com</td>\n",
       "      <td>AEROSPACE</td>\n",
       "      <td>16641</td>\n",
       "      <td>PUBLIC</td>\n",
       "      <td>unknown</td>\n",
       "    </tr>\n",
       "    <tr>\n",
       "      <th>10</th>\n",
       "      <td>df879987</td>\n",
       "      <td>PRUDENTIAL</td>\n",
       "      <td>https://www.prudential.com/</td>\n",
       "      <td>INSURANCE</td>\n",
       "      <td>41671</td>\n",
       "      <td>PUBLIC</td>\n",
       "      <td>40.49B</td>\n",
       "    </tr>\n",
       "  </tbody>\n",
       "</table>\n",
       "</div>"
      ],
      "text/plain": [
       "    company_id                    name  \\\n",
       "0   \"00123122\"                    HSBC   \n",
       "1    878434523                     AIA   \n",
       "2      3423656                     MTR   \n",
       "3       452352                    PCCW   \n",
       "4     4342ff34                     HKT   \n",
       "5       534534                MANULIFE   \n",
       "6       232131  CATHAY PACIFIC AIRWAYS   \n",
       "7    123555342  HONG KONG POLICE FORCE   \n",
       "8    621621320                    KPMG   \n",
       "9     998411df                   HAECO   \n",
       "10    df879987              PRUDENTIAL   \n",
       "\n",
       "                                               domain  business_nature  \\\n",
       "0                                       www.hsbc.com/          BANKING   \n",
       "1                                         www.aia.com        INSURANCE   \n",
       "2   http://www.mtr.com.hk/en/customer/main/index.html          RAILWAY   \n",
       "3                                http://www.pccw.com/   COMMUNICATIONS   \n",
       "4                                             hkt.com          TELECOM   \n",
       "5                           https://www.manulife.com/        INSURANCE   \n",
       "6                               www.cathaypacific.com          AIRLINE   \n",
       "7                           https://www.police.gov.hk  LAW ENFORCEMENT   \n",
       "8                                           home.kpmg       CONSULTING   \n",
       "9                                       www.haeco.com        AEROSPACE   \n",
       "10                        https://www.prudential.com/        INSURANCE   \n",
       "\n",
       "   employee_number        type     market_cap  \n",
       "0           226059      PUBLIC   78.45billion  \n",
       "1                0      PUBLIC          1.12T  \n",
       "2            28035      PUBLIC           271B  \n",
       "3            22800      PUBLIC       31.6001B  \n",
       "4       \"15900.00\"      PUBLIC        $80.45B  \n",
       "5            34000      PUBLIC  $47.4 billion  \n",
       "6            35000      PUBLIC       $42.29 B  \n",
       "7            36681  GOVERNMENT        unknown  \n",
       "8           227000     UNKNOWN        unknown  \n",
       "9            16641      PUBLIC        unknown  \n",
       "10           41671      PUBLIC         40.49B  "
      ]
     },
     "execution_count": 31,
     "metadata": {},
     "output_type": "execute_result"
    }
   ],
   "source": [
    "comp_df.my_dataframe"
   ]
  },
  {
   "cell_type": "markdown",
   "id": "bee712c2",
   "metadata": {},
   "source": [
    "Index (0, 0), or 'company_id' = 00123122, is enclosed by quotes. The ID was likely enclosed in quotes by someone to avoid the leading zeros from being dropped during file conversions. Let's remove these quotes and convert the entire series to dtype string:"
   ]
  },
  {
   "cell_type": "code",
   "execution_count": 32,
   "id": "5aba0602",
   "metadata": {},
   "outputs": [
    {
     "data": {
      "text/html": [
       "<div>\n",
       "<style scoped>\n",
       "    .dataframe tbody tr th:only-of-type {\n",
       "        vertical-align: middle;\n",
       "    }\n",
       "\n",
       "    .dataframe tbody tr th {\n",
       "        vertical-align: top;\n",
       "    }\n",
       "\n",
       "    .dataframe thead th {\n",
       "        text-align: right;\n",
       "    }\n",
       "</style>\n",
       "<table border=\"1\" class=\"dataframe\">\n",
       "  <thead>\n",
       "    <tr style=\"text-align: right;\">\n",
       "      <th></th>\n",
       "      <th>company_id</th>\n",
       "      <th>name</th>\n",
       "      <th>domain</th>\n",
       "      <th>business_nature</th>\n",
       "      <th>employee_number</th>\n",
       "      <th>type</th>\n",
       "      <th>market_cap</th>\n",
       "    </tr>\n",
       "  </thead>\n",
       "  <tbody>\n",
       "    <tr>\n",
       "      <th>0</th>\n",
       "      <td>00123122</td>\n",
       "      <td>HSBC</td>\n",
       "      <td>www.hsbc.com/</td>\n",
       "      <td>BANKING</td>\n",
       "      <td>226059</td>\n",
       "      <td>PUBLIC</td>\n",
       "      <td>78.45billion</td>\n",
       "    </tr>\n",
       "    <tr>\n",
       "      <th>1</th>\n",
       "      <td>878434523</td>\n",
       "      <td>AIA</td>\n",
       "      <td>www.aia.com</td>\n",
       "      <td>INSURANCE</td>\n",
       "      <td>0</td>\n",
       "      <td>PUBLIC</td>\n",
       "      <td>1.12T</td>\n",
       "    </tr>\n",
       "    <tr>\n",
       "      <th>2</th>\n",
       "      <td>3423656</td>\n",
       "      <td>MTR</td>\n",
       "      <td>http://www.mtr.com.hk/en/customer/main/index.html</td>\n",
       "      <td>RAILWAY</td>\n",
       "      <td>28035</td>\n",
       "      <td>PUBLIC</td>\n",
       "      <td>271B</td>\n",
       "    </tr>\n",
       "    <tr>\n",
       "      <th>3</th>\n",
       "      <td>452352</td>\n",
       "      <td>PCCW</td>\n",
       "      <td>http://www.pccw.com/</td>\n",
       "      <td>COMMUNICATIONS</td>\n",
       "      <td>22800</td>\n",
       "      <td>PUBLIC</td>\n",
       "      <td>31.6001B</td>\n",
       "    </tr>\n",
       "    <tr>\n",
       "      <th>4</th>\n",
       "      <td>4342ff34</td>\n",
       "      <td>HKT</td>\n",
       "      <td>hkt.com</td>\n",
       "      <td>TELECOM</td>\n",
       "      <td>\"15900.00\"</td>\n",
       "      <td>PUBLIC</td>\n",
       "      <td>$80.45B</td>\n",
       "    </tr>\n",
       "    <tr>\n",
       "      <th>5</th>\n",
       "      <td>534534</td>\n",
       "      <td>MANULIFE</td>\n",
       "      <td>https://www.manulife.com/</td>\n",
       "      <td>INSURANCE</td>\n",
       "      <td>34000</td>\n",
       "      <td>PUBLIC</td>\n",
       "      <td>$47.4 billion</td>\n",
       "    </tr>\n",
       "    <tr>\n",
       "      <th>6</th>\n",
       "      <td>232131</td>\n",
       "      <td>CATHAY PACIFIC AIRWAYS</td>\n",
       "      <td>www.cathaypacific.com</td>\n",
       "      <td>AIRLINE</td>\n",
       "      <td>35000</td>\n",
       "      <td>PUBLIC</td>\n",
       "      <td>$42.29 B</td>\n",
       "    </tr>\n",
       "    <tr>\n",
       "      <th>7</th>\n",
       "      <td>123555342</td>\n",
       "      <td>HONG KONG POLICE FORCE</td>\n",
       "      <td>https://www.police.gov.hk</td>\n",
       "      <td>LAW ENFORCEMENT</td>\n",
       "      <td>36681</td>\n",
       "      <td>GOVERNMENT</td>\n",
       "      <td>unknown</td>\n",
       "    </tr>\n",
       "    <tr>\n",
       "      <th>8</th>\n",
       "      <td>621621320</td>\n",
       "      <td>KPMG</td>\n",
       "      <td>home.kpmg</td>\n",
       "      <td>CONSULTING</td>\n",
       "      <td>227000</td>\n",
       "      <td>UNKNOWN</td>\n",
       "      <td>unknown</td>\n",
       "    </tr>\n",
       "    <tr>\n",
       "      <th>9</th>\n",
       "      <td>998411df</td>\n",
       "      <td>HAECO</td>\n",
       "      <td>www.haeco.com</td>\n",
       "      <td>AEROSPACE</td>\n",
       "      <td>16641</td>\n",
       "      <td>PUBLIC</td>\n",
       "      <td>unknown</td>\n",
       "    </tr>\n",
       "    <tr>\n",
       "      <th>10</th>\n",
       "      <td>df879987</td>\n",
       "      <td>PRUDENTIAL</td>\n",
       "      <td>https://www.prudential.com/</td>\n",
       "      <td>INSURANCE</td>\n",
       "      <td>41671</td>\n",
       "      <td>PUBLIC</td>\n",
       "      <td>40.49B</td>\n",
       "    </tr>\n",
       "  </tbody>\n",
       "</table>\n",
       "</div>"
      ],
      "text/plain": [
       "   company_id                    name  \\\n",
       "0    00123122                    HSBC   \n",
       "1   878434523                     AIA   \n",
       "2     3423656                     MTR   \n",
       "3      452352                    PCCW   \n",
       "4    4342ff34                     HKT   \n",
       "5      534534                MANULIFE   \n",
       "6      232131  CATHAY PACIFIC AIRWAYS   \n",
       "7   123555342  HONG KONG POLICE FORCE   \n",
       "8   621621320                    KPMG   \n",
       "9    998411df                   HAECO   \n",
       "10   df879987              PRUDENTIAL   \n",
       "\n",
       "                                               domain  business_nature  \\\n",
       "0                                       www.hsbc.com/          BANKING   \n",
       "1                                         www.aia.com        INSURANCE   \n",
       "2   http://www.mtr.com.hk/en/customer/main/index.html          RAILWAY   \n",
       "3                                http://www.pccw.com/   COMMUNICATIONS   \n",
       "4                                             hkt.com          TELECOM   \n",
       "5                           https://www.manulife.com/        INSURANCE   \n",
       "6                               www.cathaypacific.com          AIRLINE   \n",
       "7                           https://www.police.gov.hk  LAW ENFORCEMENT   \n",
       "8                                           home.kpmg       CONSULTING   \n",
       "9                                       www.haeco.com        AEROSPACE   \n",
       "10                        https://www.prudential.com/        INSURANCE   \n",
       "\n",
       "   employee_number        type     market_cap  \n",
       "0           226059      PUBLIC   78.45billion  \n",
       "1                0      PUBLIC          1.12T  \n",
       "2            28035      PUBLIC           271B  \n",
       "3            22800      PUBLIC       31.6001B  \n",
       "4       \"15900.00\"      PUBLIC        $80.45B  \n",
       "5            34000      PUBLIC  $47.4 billion  \n",
       "6            35000      PUBLIC       $42.29 B  \n",
       "7            36681  GOVERNMENT        unknown  \n",
       "8           227000     UNKNOWN        unknown  \n",
       "9            16641      PUBLIC        unknown  \n",
       "10           41671      PUBLIC         40.49B  "
      ]
     },
     "execution_count": 32,
     "metadata": {},
     "output_type": "execute_result"
    }
   ],
   "source": [
    "# corrects index (0,0)'s \"company_id\" to remove quotes\n",
    "comp_df.my_dataframe.iloc[0,0] = comp_df.my_dataframe.iloc[0,0][1:-1] \n",
    "comp_df.my_dataframe"
   ]
  },
  {
   "cell_type": "code",
   "execution_count": 33,
   "id": "5c2e5eda",
   "metadata": {},
   "outputs": [
    {
     "data": {
      "text/plain": [
       "0      00123122\n",
       "1     878434523\n",
       "2       3423656\n",
       "3        452352\n",
       "4      4342ff34\n",
       "5        534534\n",
       "6        232131\n",
       "7     123555342\n",
       "8     621621320\n",
       "9      998411df\n",
       "10     df879987\n",
       "Name: company_id, dtype: object"
      ]
     },
     "execution_count": 33,
     "metadata": {},
     "output_type": "execute_result"
    }
   ],
   "source": [
    "# converts feature \"company_id\" to strings\n",
    "comp_df.my_dataframe['company_id'].apply(lambda x: str(x))"
   ]
  },
  {
   "cell_type": "markdown",
   "id": "28f11fdf",
   "metadata": {},
   "source": [
    "If we return the dataframe again, we notice the column 'company_id' is now corrected. However, index 4 of the feature 'employee_number' is in an improper format. Additionally, the feature 'market_cap' is a mix of strings and numbers. The following steps will correct the 'employee_number' and 'market_cap' features:"
   ]
  },
  {
   "cell_type": "code",
   "execution_count": 34,
   "id": "bd549032",
   "metadata": {},
   "outputs": [
    {
     "data": {
      "text/html": [
       "<div>\n",
       "<style scoped>\n",
       "    .dataframe tbody tr th:only-of-type {\n",
       "        vertical-align: middle;\n",
       "    }\n",
       "\n",
       "    .dataframe tbody tr th {\n",
       "        vertical-align: top;\n",
       "    }\n",
       "\n",
       "    .dataframe thead th {\n",
       "        text-align: right;\n",
       "    }\n",
       "</style>\n",
       "<table border=\"1\" class=\"dataframe\">\n",
       "  <thead>\n",
       "    <tr style=\"text-align: right;\">\n",
       "      <th></th>\n",
       "      <th>company_id</th>\n",
       "      <th>name</th>\n",
       "      <th>domain</th>\n",
       "      <th>business_nature</th>\n",
       "      <th>employee_number</th>\n",
       "      <th>type</th>\n",
       "      <th>market_cap</th>\n",
       "    </tr>\n",
       "  </thead>\n",
       "  <tbody>\n",
       "    <tr>\n",
       "      <th>0</th>\n",
       "      <td>00123122</td>\n",
       "      <td>HSBC</td>\n",
       "      <td>www.hsbc.com/</td>\n",
       "      <td>BANKING</td>\n",
       "      <td>226059</td>\n",
       "      <td>PUBLIC</td>\n",
       "      <td>78.45billion</td>\n",
       "    </tr>\n",
       "    <tr>\n",
       "      <th>1</th>\n",
       "      <td>878434523</td>\n",
       "      <td>AIA</td>\n",
       "      <td>www.aia.com</td>\n",
       "      <td>INSURANCE</td>\n",
       "      <td>0</td>\n",
       "      <td>PUBLIC</td>\n",
       "      <td>1.12T</td>\n",
       "    </tr>\n",
       "    <tr>\n",
       "      <th>2</th>\n",
       "      <td>3423656</td>\n",
       "      <td>MTR</td>\n",
       "      <td>http://www.mtr.com.hk/en/customer/main/index.html</td>\n",
       "      <td>RAILWAY</td>\n",
       "      <td>28035</td>\n",
       "      <td>PUBLIC</td>\n",
       "      <td>271B</td>\n",
       "    </tr>\n",
       "    <tr>\n",
       "      <th>3</th>\n",
       "      <td>452352</td>\n",
       "      <td>PCCW</td>\n",
       "      <td>http://www.pccw.com/</td>\n",
       "      <td>COMMUNICATIONS</td>\n",
       "      <td>22800</td>\n",
       "      <td>PUBLIC</td>\n",
       "      <td>31.6001B</td>\n",
       "    </tr>\n",
       "    <tr>\n",
       "      <th>4</th>\n",
       "      <td>4342ff34</td>\n",
       "      <td>HKT</td>\n",
       "      <td>hkt.com</td>\n",
       "      <td>TELECOM</td>\n",
       "      <td>\"15900.00\"</td>\n",
       "      <td>PUBLIC</td>\n",
       "      <td>$80.45B</td>\n",
       "    </tr>\n",
       "    <tr>\n",
       "      <th>5</th>\n",
       "      <td>534534</td>\n",
       "      <td>MANULIFE</td>\n",
       "      <td>https://www.manulife.com/</td>\n",
       "      <td>INSURANCE</td>\n",
       "      <td>34000</td>\n",
       "      <td>PUBLIC</td>\n",
       "      <td>$47.4 billion</td>\n",
       "    </tr>\n",
       "    <tr>\n",
       "      <th>6</th>\n",
       "      <td>232131</td>\n",
       "      <td>CATHAY PACIFIC AIRWAYS</td>\n",
       "      <td>www.cathaypacific.com</td>\n",
       "      <td>AIRLINE</td>\n",
       "      <td>35000</td>\n",
       "      <td>PUBLIC</td>\n",
       "      <td>$42.29 B</td>\n",
       "    </tr>\n",
       "    <tr>\n",
       "      <th>7</th>\n",
       "      <td>123555342</td>\n",
       "      <td>HONG KONG POLICE FORCE</td>\n",
       "      <td>https://www.police.gov.hk</td>\n",
       "      <td>LAW ENFORCEMENT</td>\n",
       "      <td>36681</td>\n",
       "      <td>GOVERNMENT</td>\n",
       "      <td>unknown</td>\n",
       "    </tr>\n",
       "    <tr>\n",
       "      <th>8</th>\n",
       "      <td>621621320</td>\n",
       "      <td>KPMG</td>\n",
       "      <td>home.kpmg</td>\n",
       "      <td>CONSULTING</td>\n",
       "      <td>227000</td>\n",
       "      <td>UNKNOWN</td>\n",
       "      <td>unknown</td>\n",
       "    </tr>\n",
       "    <tr>\n",
       "      <th>9</th>\n",
       "      <td>998411df</td>\n",
       "      <td>HAECO</td>\n",
       "      <td>www.haeco.com</td>\n",
       "      <td>AEROSPACE</td>\n",
       "      <td>16641</td>\n",
       "      <td>PUBLIC</td>\n",
       "      <td>unknown</td>\n",
       "    </tr>\n",
       "    <tr>\n",
       "      <th>10</th>\n",
       "      <td>df879987</td>\n",
       "      <td>PRUDENTIAL</td>\n",
       "      <td>https://www.prudential.com/</td>\n",
       "      <td>INSURANCE</td>\n",
       "      <td>41671</td>\n",
       "      <td>PUBLIC</td>\n",
       "      <td>40.49B</td>\n",
       "    </tr>\n",
       "  </tbody>\n",
       "</table>\n",
       "</div>"
      ],
      "text/plain": [
       "   company_id                    name  \\\n",
       "0    00123122                    HSBC   \n",
       "1   878434523                     AIA   \n",
       "2     3423656                     MTR   \n",
       "3      452352                    PCCW   \n",
       "4    4342ff34                     HKT   \n",
       "5      534534                MANULIFE   \n",
       "6      232131  CATHAY PACIFIC AIRWAYS   \n",
       "7   123555342  HONG KONG POLICE FORCE   \n",
       "8   621621320                    KPMG   \n",
       "9    998411df                   HAECO   \n",
       "10   df879987              PRUDENTIAL   \n",
       "\n",
       "                                               domain  business_nature  \\\n",
       "0                                       www.hsbc.com/          BANKING   \n",
       "1                                         www.aia.com        INSURANCE   \n",
       "2   http://www.mtr.com.hk/en/customer/main/index.html          RAILWAY   \n",
       "3                                http://www.pccw.com/   COMMUNICATIONS   \n",
       "4                                             hkt.com          TELECOM   \n",
       "5                           https://www.manulife.com/        INSURANCE   \n",
       "6                               www.cathaypacific.com          AIRLINE   \n",
       "7                           https://www.police.gov.hk  LAW ENFORCEMENT   \n",
       "8                                           home.kpmg       CONSULTING   \n",
       "9                                       www.haeco.com        AEROSPACE   \n",
       "10                        https://www.prudential.com/        INSURANCE   \n",
       "\n",
       "   employee_number        type     market_cap  \n",
       "0           226059      PUBLIC   78.45billion  \n",
       "1                0      PUBLIC          1.12T  \n",
       "2            28035      PUBLIC           271B  \n",
       "3            22800      PUBLIC       31.6001B  \n",
       "4       \"15900.00\"      PUBLIC        $80.45B  \n",
       "5            34000      PUBLIC  $47.4 billion  \n",
       "6            35000      PUBLIC       $42.29 B  \n",
       "7            36681  GOVERNMENT        unknown  \n",
       "8           227000     UNKNOWN        unknown  \n",
       "9            16641      PUBLIC        unknown  \n",
       "10           41671      PUBLIC         40.49B  "
      ]
     },
     "execution_count": 34,
     "metadata": {},
     "output_type": "execute_result"
    }
   ],
   "source": [
    "comp_df.my_dataframe"
   ]
  },
  {
   "cell_type": "code",
   "execution_count": 35,
   "id": "1afe2d10",
   "metadata": {},
   "outputs": [
    {
     "data": {
      "text/plain": [
       "company_id         4342ff34\n",
       "name                    HKT\n",
       "domain              hkt.com\n",
       "business_nature     TELECOM\n",
       "employee_number       15900\n",
       "type                 PUBLIC\n",
       "market_cap          $80.45B\n",
       "Name: 4, dtype: object"
      ]
     },
     "execution_count": 35,
     "metadata": {},
     "output_type": "execute_result"
    }
   ],
   "source": [
    "# indexes the 'employee_number' and takes a slice of its value to remove the quotes (\" \")\n",
    "comp_df.my_dataframe.loc[4, 'employee_number'] = comp_df.my_dataframe.loc[4, 'employee_number'][1:-4]\n",
    "\n",
    "comp_df.my_dataframe.loc[4]"
   ]
  },
  {
   "cell_type": "code",
   "execution_count": 36,
   "id": "5e042988",
   "metadata": {},
   "outputs": [
    {
     "data": {
      "text/plain": [
       "0     226059\n",
       "1          0\n",
       "2      28035\n",
       "3      22800\n",
       "4      15900\n",
       "5      34000\n",
       "6      35000\n",
       "7      36681\n",
       "8     227000\n",
       "9      16641\n",
       "10     41671\n",
       "Name: employee_number, dtype: int64"
      ]
     },
     "execution_count": 36,
     "metadata": {},
     "output_type": "execute_result"
    }
   ],
   "source": [
    "# converts feature 'employee_number' to int\n",
    "comp_df.my_dataframe['employee_number'].apply(lambda x: int(x))"
   ]
  },
  {
   "cell_type": "markdown",
   "id": "5c2ef832",
   "metadata": {},
   "source": [
    "Now, let's write a brief function with conditional statements to handle the feature 'market_cap':"
   ]
  },
  {
   "cell_type": "code",
   "execution_count": 37,
   "id": "684b9fe0",
   "metadata": {},
   "outputs": [],
   "source": [
    "def mkt_cap_converter(x):\n",
    "    \"\"\"Corrects market cap format (e.g.; '$7B' -> 7000000000000)\n",
    "    \n",
    "    :param x: string of company market cap\n",
    "    :returns: market cap as dtype float\n",
    "    \"\"\"\n",
    "    if x == 'UNKNOWN':\n",
    "        return x\n",
    "    if ('B' in x) or ('BILLION' in x):\n",
    "        result = ''.join([i for i in x if i.isdigit() or i == '.'])\n",
    "        result = float(result) * 1000000000\n",
    "        return result\n",
    "    if ('T' in x) or ('TRILLION' in x):\n",
    "        result = ''.join([i for i in x if i.isdigit() or i == '.'])\n",
    "        result = float(result) * 1000000000000\n",
    "        return result"
   ]
  },
  {
   "cell_type": "code",
   "execution_count": 38,
   "id": "f7519838",
   "metadata": {},
   "outputs": [],
   "source": [
    "# removes trailing/leading spaces and capitalizes string\n",
    "comp_df.remove_space_upper('market_cap')\n",
    "\n",
    "# corrects market_cap feature by applying/calling mkt_cap_converter function above\n",
    "comp_df.my_dataframe['market_cap'] = comp_df.my_dataframe['market_cap'].apply(mkt_cap_converter)"
   ]
  },
  {
   "cell_type": "code",
   "execution_count": 39,
   "id": "94636bb9",
   "metadata": {},
   "outputs": [
    {
     "data": {
      "text/html": [
       "<div>\n",
       "<style scoped>\n",
       "    .dataframe tbody tr th:only-of-type {\n",
       "        vertical-align: middle;\n",
       "    }\n",
       "\n",
       "    .dataframe tbody tr th {\n",
       "        vertical-align: top;\n",
       "    }\n",
       "\n",
       "    .dataframe thead th {\n",
       "        text-align: right;\n",
       "    }\n",
       "</style>\n",
       "<table border=\"1\" class=\"dataframe\">\n",
       "  <thead>\n",
       "    <tr style=\"text-align: right;\">\n",
       "      <th></th>\n",
       "      <th>company_id</th>\n",
       "      <th>name</th>\n",
       "      <th>domain</th>\n",
       "      <th>business_nature</th>\n",
       "      <th>employee_number</th>\n",
       "      <th>type</th>\n",
       "      <th>market_cap</th>\n",
       "    </tr>\n",
       "  </thead>\n",
       "  <tbody>\n",
       "    <tr>\n",
       "      <th>0</th>\n",
       "      <td>00123122</td>\n",
       "      <td>HSBC</td>\n",
       "      <td>www.hsbc.com/</td>\n",
       "      <td>BANKING</td>\n",
       "      <td>226059</td>\n",
       "      <td>PUBLIC</td>\n",
       "      <td>78450000000.0</td>\n",
       "    </tr>\n",
       "    <tr>\n",
       "      <th>1</th>\n",
       "      <td>878434523</td>\n",
       "      <td>AIA</td>\n",
       "      <td>www.aia.com</td>\n",
       "      <td>INSURANCE</td>\n",
       "      <td>0</td>\n",
       "      <td>PUBLIC</td>\n",
       "      <td>1120000000000.0</td>\n",
       "    </tr>\n",
       "    <tr>\n",
       "      <th>2</th>\n",
       "      <td>3423656</td>\n",
       "      <td>MTR</td>\n",
       "      <td>http://www.mtr.com.hk/en/customer/main/index.html</td>\n",
       "      <td>RAILWAY</td>\n",
       "      <td>28035</td>\n",
       "      <td>PUBLIC</td>\n",
       "      <td>271000000000.0</td>\n",
       "    </tr>\n",
       "    <tr>\n",
       "      <th>3</th>\n",
       "      <td>452352</td>\n",
       "      <td>PCCW</td>\n",
       "      <td>http://www.pccw.com/</td>\n",
       "      <td>COMMUNICATIONS</td>\n",
       "      <td>22800</td>\n",
       "      <td>PUBLIC</td>\n",
       "      <td>31600100000.0</td>\n",
       "    </tr>\n",
       "    <tr>\n",
       "      <th>4</th>\n",
       "      <td>4342ff34</td>\n",
       "      <td>HKT</td>\n",
       "      <td>hkt.com</td>\n",
       "      <td>TELECOM</td>\n",
       "      <td>15900</td>\n",
       "      <td>PUBLIC</td>\n",
       "      <td>80450000000.0</td>\n",
       "    </tr>\n",
       "    <tr>\n",
       "      <th>5</th>\n",
       "      <td>534534</td>\n",
       "      <td>MANULIFE</td>\n",
       "      <td>https://www.manulife.com/</td>\n",
       "      <td>INSURANCE</td>\n",
       "      <td>34000</td>\n",
       "      <td>PUBLIC</td>\n",
       "      <td>47400000000.0</td>\n",
       "    </tr>\n",
       "    <tr>\n",
       "      <th>6</th>\n",
       "      <td>232131</td>\n",
       "      <td>CATHAY PACIFIC AIRWAYS</td>\n",
       "      <td>www.cathaypacific.com</td>\n",
       "      <td>AIRLINE</td>\n",
       "      <td>35000</td>\n",
       "      <td>PUBLIC</td>\n",
       "      <td>42290000000.0</td>\n",
       "    </tr>\n",
       "    <tr>\n",
       "      <th>7</th>\n",
       "      <td>123555342</td>\n",
       "      <td>HONG KONG POLICE FORCE</td>\n",
       "      <td>https://www.police.gov.hk</td>\n",
       "      <td>LAW ENFORCEMENT</td>\n",
       "      <td>36681</td>\n",
       "      <td>GOVERNMENT</td>\n",
       "      <td>UNKNOWN</td>\n",
       "    </tr>\n",
       "    <tr>\n",
       "      <th>8</th>\n",
       "      <td>621621320</td>\n",
       "      <td>KPMG</td>\n",
       "      <td>home.kpmg</td>\n",
       "      <td>CONSULTING</td>\n",
       "      <td>227000</td>\n",
       "      <td>UNKNOWN</td>\n",
       "      <td>UNKNOWN</td>\n",
       "    </tr>\n",
       "    <tr>\n",
       "      <th>9</th>\n",
       "      <td>998411df</td>\n",
       "      <td>HAECO</td>\n",
       "      <td>www.haeco.com</td>\n",
       "      <td>AEROSPACE</td>\n",
       "      <td>16641</td>\n",
       "      <td>PUBLIC</td>\n",
       "      <td>UNKNOWN</td>\n",
       "    </tr>\n",
       "    <tr>\n",
       "      <th>10</th>\n",
       "      <td>df879987</td>\n",
       "      <td>PRUDENTIAL</td>\n",
       "      <td>https://www.prudential.com/</td>\n",
       "      <td>INSURANCE</td>\n",
       "      <td>41671</td>\n",
       "      <td>PUBLIC</td>\n",
       "      <td>40490000000.0</td>\n",
       "    </tr>\n",
       "  </tbody>\n",
       "</table>\n",
       "</div>"
      ],
      "text/plain": [
       "   company_id                    name  \\\n",
       "0    00123122                    HSBC   \n",
       "1   878434523                     AIA   \n",
       "2     3423656                     MTR   \n",
       "3      452352                    PCCW   \n",
       "4    4342ff34                     HKT   \n",
       "5      534534                MANULIFE   \n",
       "6      232131  CATHAY PACIFIC AIRWAYS   \n",
       "7   123555342  HONG KONG POLICE FORCE   \n",
       "8   621621320                    KPMG   \n",
       "9    998411df                   HAECO   \n",
       "10   df879987              PRUDENTIAL   \n",
       "\n",
       "                                               domain  business_nature  \\\n",
       "0                                       www.hsbc.com/          BANKING   \n",
       "1                                         www.aia.com        INSURANCE   \n",
       "2   http://www.mtr.com.hk/en/customer/main/index.html          RAILWAY   \n",
       "3                                http://www.pccw.com/   COMMUNICATIONS   \n",
       "4                                             hkt.com          TELECOM   \n",
       "5                           https://www.manulife.com/        INSURANCE   \n",
       "6                               www.cathaypacific.com          AIRLINE   \n",
       "7                           https://www.police.gov.hk  LAW ENFORCEMENT   \n",
       "8                                           home.kpmg       CONSULTING   \n",
       "9                                       www.haeco.com        AEROSPACE   \n",
       "10                        https://www.prudential.com/        INSURANCE   \n",
       "\n",
       "   employee_number        type       market_cap  \n",
       "0           226059      PUBLIC    78450000000.0  \n",
       "1                0      PUBLIC  1120000000000.0  \n",
       "2            28035      PUBLIC   271000000000.0  \n",
       "3            22800      PUBLIC    31600100000.0  \n",
       "4            15900      PUBLIC    80450000000.0  \n",
       "5            34000      PUBLIC    47400000000.0  \n",
       "6            35000      PUBLIC    42290000000.0  \n",
       "7            36681  GOVERNMENT          UNKNOWN  \n",
       "8           227000     UNKNOWN          UNKNOWN  \n",
       "9            16641      PUBLIC          UNKNOWN  \n",
       "10           41671      PUBLIC    40490000000.0  "
      ]
     },
     "execution_count": 39,
     "metadata": {},
     "output_type": "execute_result"
    }
   ],
   "source": [
    "comp_df.my_dataframe"
   ]
  },
  {
   "cell_type": "markdown",
   "id": "8d4bc317",
   "metadata": {},
   "source": [
    "Viewing the company dataframe above, we can see that there are no longer any undefined fields and any outliers/missing values have been remediated. \n",
    "\n",
    "While the feature 'market_cap' may now be difficult to read, it is prepared for further analyzation. The unknown 'market_cap' for the company 'Hong Kong Police Force' is expected since it is a Chinese-owned organization and financial information is not public knowledge. However, 'KPMG' is a public company but does not have its market capitilization listed. Additionally, AIA's 'employee_number' is listed as zero. I will quickly correct these things before proceeding with the analysis of the data.\n",
    "\n",
    "Note: the feature 'domain' does appear to have inconsistent values; however, since it is not critical to analyzing the data, it will remain untouched."
   ]
  },
  {
   "cell_type": "code",
   "execution_count": 40,
   "id": "abbdefc5",
   "metadata": {},
   "outputs": [
    {
     "data": {
      "text/html": [
       "<div>\n",
       "<style scoped>\n",
       "    .dataframe tbody tr th:only-of-type {\n",
       "        vertical-align: middle;\n",
       "    }\n",
       "\n",
       "    .dataframe tbody tr th {\n",
       "        vertical-align: top;\n",
       "    }\n",
       "\n",
       "    .dataframe thead th {\n",
       "        text-align: right;\n",
       "    }\n",
       "</style>\n",
       "<table border=\"1\" class=\"dataframe\">\n",
       "  <thead>\n",
       "    <tr style=\"text-align: right;\">\n",
       "      <th></th>\n",
       "      <th>company_id</th>\n",
       "      <th>name</th>\n",
       "      <th>domain</th>\n",
       "      <th>business_nature</th>\n",
       "      <th>employee_number</th>\n",
       "      <th>type</th>\n",
       "      <th>market_cap</th>\n",
       "    </tr>\n",
       "  </thead>\n",
       "  <tbody>\n",
       "    <tr>\n",
       "      <th>0</th>\n",
       "      <td>00123122</td>\n",
       "      <td>HSBC</td>\n",
       "      <td>www.hsbc.com/</td>\n",
       "      <td>BANKING</td>\n",
       "      <td>226059</td>\n",
       "      <td>PUBLIC</td>\n",
       "      <td>78450000000.0</td>\n",
       "    </tr>\n",
       "    <tr>\n",
       "      <th>1</th>\n",
       "      <td>878434523</td>\n",
       "      <td>AIA</td>\n",
       "      <td>www.aia.com</td>\n",
       "      <td>INSURANCE</td>\n",
       "      <td>23000</td>\n",
       "      <td>PUBLIC</td>\n",
       "      <td>1120000000000.0</td>\n",
       "    </tr>\n",
       "    <tr>\n",
       "      <th>2</th>\n",
       "      <td>3423656</td>\n",
       "      <td>MTR</td>\n",
       "      <td>http://www.mtr.com.hk/en/customer/main/index.html</td>\n",
       "      <td>RAILWAY</td>\n",
       "      <td>28035</td>\n",
       "      <td>PUBLIC</td>\n",
       "      <td>271000000000.0</td>\n",
       "    </tr>\n",
       "    <tr>\n",
       "      <th>3</th>\n",
       "      <td>452352</td>\n",
       "      <td>PCCW</td>\n",
       "      <td>http://www.pccw.com/</td>\n",
       "      <td>COMMUNICATIONS</td>\n",
       "      <td>22800</td>\n",
       "      <td>PUBLIC</td>\n",
       "      <td>31600100000.0</td>\n",
       "    </tr>\n",
       "    <tr>\n",
       "      <th>4</th>\n",
       "      <td>4342ff34</td>\n",
       "      <td>HKT</td>\n",
       "      <td>hkt.com</td>\n",
       "      <td>TELECOM</td>\n",
       "      <td>15900</td>\n",
       "      <td>PUBLIC</td>\n",
       "      <td>80450000000.0</td>\n",
       "    </tr>\n",
       "    <tr>\n",
       "      <th>5</th>\n",
       "      <td>534534</td>\n",
       "      <td>MANULIFE</td>\n",
       "      <td>https://www.manulife.com/</td>\n",
       "      <td>INSURANCE</td>\n",
       "      <td>34000</td>\n",
       "      <td>PUBLIC</td>\n",
       "      <td>47400000000.0</td>\n",
       "    </tr>\n",
       "    <tr>\n",
       "      <th>6</th>\n",
       "      <td>232131</td>\n",
       "      <td>CATHAY PACIFIC AIRWAYS</td>\n",
       "      <td>www.cathaypacific.com</td>\n",
       "      <td>AIRLINE</td>\n",
       "      <td>35000</td>\n",
       "      <td>PUBLIC</td>\n",
       "      <td>42290000000.0</td>\n",
       "    </tr>\n",
       "    <tr>\n",
       "      <th>7</th>\n",
       "      <td>123555342</td>\n",
       "      <td>HONG KONG POLICE FORCE</td>\n",
       "      <td>https://www.police.gov.hk</td>\n",
       "      <td>LAW ENFORCEMENT</td>\n",
       "      <td>36681</td>\n",
       "      <td>GOVERNMENT</td>\n",
       "      <td>UNKNOWN</td>\n",
       "    </tr>\n",
       "    <tr>\n",
       "      <th>8</th>\n",
       "      <td>621621320</td>\n",
       "      <td>KPMG</td>\n",
       "      <td>home.kpmg</td>\n",
       "      <td>CONSULTING</td>\n",
       "      <td>227000</td>\n",
       "      <td>PUBLIC</td>\n",
       "      <td>2320000000.0</td>\n",
       "    </tr>\n",
       "    <tr>\n",
       "      <th>9</th>\n",
       "      <td>998411df</td>\n",
       "      <td>HAECO</td>\n",
       "      <td>www.haeco.com</td>\n",
       "      <td>AEROSPACE</td>\n",
       "      <td>16641</td>\n",
       "      <td>PRIVATE</td>\n",
       "      <td>UNKNOWN</td>\n",
       "    </tr>\n",
       "    <tr>\n",
       "      <th>10</th>\n",
       "      <td>df879987</td>\n",
       "      <td>PRUDENTIAL</td>\n",
       "      <td>https://www.prudential.com/</td>\n",
       "      <td>INSURANCE</td>\n",
       "      <td>41671</td>\n",
       "      <td>PUBLIC</td>\n",
       "      <td>40490000000.0</td>\n",
       "    </tr>\n",
       "  </tbody>\n",
       "</table>\n",
       "</div>"
      ],
      "text/plain": [
       "   company_id                    name  \\\n",
       "0    00123122                    HSBC   \n",
       "1   878434523                     AIA   \n",
       "2     3423656                     MTR   \n",
       "3      452352                    PCCW   \n",
       "4    4342ff34                     HKT   \n",
       "5      534534                MANULIFE   \n",
       "6      232131  CATHAY PACIFIC AIRWAYS   \n",
       "7   123555342  HONG KONG POLICE FORCE   \n",
       "8   621621320                    KPMG   \n",
       "9    998411df                   HAECO   \n",
       "10   df879987              PRUDENTIAL   \n",
       "\n",
       "                                               domain  business_nature  \\\n",
       "0                                       www.hsbc.com/          BANKING   \n",
       "1                                         www.aia.com        INSURANCE   \n",
       "2   http://www.mtr.com.hk/en/customer/main/index.html          RAILWAY   \n",
       "3                                http://www.pccw.com/   COMMUNICATIONS   \n",
       "4                                             hkt.com          TELECOM   \n",
       "5                           https://www.manulife.com/        INSURANCE   \n",
       "6                               www.cathaypacific.com          AIRLINE   \n",
       "7                           https://www.police.gov.hk  LAW ENFORCEMENT   \n",
       "8                                           home.kpmg       CONSULTING   \n",
       "9                                       www.haeco.com        AEROSPACE   \n",
       "10                        https://www.prudential.com/        INSURANCE   \n",
       "\n",
       "   employee_number        type       market_cap  \n",
       "0           226059      PUBLIC    78450000000.0  \n",
       "1            23000      PUBLIC  1120000000000.0  \n",
       "2            28035      PUBLIC   271000000000.0  \n",
       "3            22800      PUBLIC    31600100000.0  \n",
       "4            15900      PUBLIC    80450000000.0  \n",
       "5            34000      PUBLIC    47400000000.0  \n",
       "6            35000      PUBLIC    42290000000.0  \n",
       "7            36681  GOVERNMENT          UNKNOWN  \n",
       "8           227000      PUBLIC     2320000000.0  \n",
       "9            16641     PRIVATE          UNKNOWN  \n",
       "10           41671      PUBLIC    40490000000.0  "
      ]
     },
     "execution_count": 40,
     "metadata": {},
     "output_type": "execute_result"
    }
   ],
   "source": [
    "# corrects 'UNKNOWN' company type for KPMG\n",
    "comp_df.my_dataframe.loc[8, 'type'] = 'PUBLIC'\n",
    "\n",
    "# corrects 'HAECO' company type to private; it is not a public company based on my research\n",
    "comp_df.my_dataframe.loc[9, 'type'] = 'PRIVATE'\n",
    "\n",
    "# replaces 'UNKNOWN' market cap for KPMG today's (9/2) closing\n",
    "comp_df.my_dataframe.loc[8, 'market_cap'] = 2320000000.0\n",
    "\n",
    "# updates 'AIA' company's 'employee_number'\n",
    "comp_df.my_dataframe.loc[1, 'employee_number'] = 23000\n",
    "\n",
    "comp_df.my_dataframe"
   ]
  },
  {
   "cell_type": "markdown",
   "id": "b1677192",
   "metadata": {},
   "source": [
    "# Summarize the 'Company' Dataset"
   ]
  },
  {
   "cell_type": "markdown",
   "id": "b66f120a",
   "metadata": {},
   "source": [
    "Now that the company dataset has been cleansed, we can begin to analyze and summarize our findings."
   ]
  },
  {
   "cell_type": "markdown",
   "id": "cb400f5c",
   "metadata": {},
   "source": [
    "Let's analyze the data through the following lenses:\n",
    "\n",
    "    1. Analysis of data by company type (e.g.; Public versus Private Companies)\n",
    "    2. Analysis of data by company size (e.g.; Market Capitilization)\n",
    "    3. Analysis of data by company business nature/industry"
   ]
  },
  {
   "cell_type": "markdown",
   "id": "05b9cf55",
   "metadata": {},
   "source": [
    "-------------------------------------------------------------------------------------------------------------------------------"
   ]
  },
  {
   "cell_type": "markdown",
   "id": "df1997e1",
   "metadata": {},
   "source": [
    "1. Analysis of Data by Company Type"
   ]
  },
  {
   "cell_type": "code",
   "execution_count": 41,
   "id": "dbbfe564",
   "metadata": {},
   "outputs": [],
   "source": [
    "# create a deep copy\n",
    "comp_df_copy = comp_df.my_dataframe.copy(deep = True)"
   ]
  },
  {
   "cell_type": "code",
   "execution_count": 42,
   "id": "1514762c",
   "metadata": {},
   "outputs": [
    {
     "data": {
      "text/plain": [
       "Text(0, 0.5, 'Number of Companies')"
      ]
     },
     "execution_count": 42,
     "metadata": {},
     "output_type": "execute_result"
    },
    {
     "data": {
      "image/png": "[encoded data removed]",
      "text/plain": [
       "<Figure size 432x288 with 1 Axes>"
      ]
     },
     "metadata": {
      "needs_background": "light"
     },
     "output_type": "display_data"
    }
   ],
   "source": [
    "# creates count aggregation of companies by type\n",
    "comp_type = comp_df_copy.groupby('type')['type'].count()\n",
    "\n",
    "# sorts values in descending order\n",
    "comp_type = comp_type.sort_values(ascending = False)\n",
    "\n",
    "comp_type.plot.bar()\n",
    "plt.title('Count of Companies by Type')\n",
    "plt.xlabel('')\n",
    "plt.ylabel('Number of Companies')"
   ]
  },
  {
   "cell_type": "markdown",
   "id": "2e20bcbb",
   "metadata": {},
   "source": [
    "The bar chart above indicates the majority of the companies in the dataset are publically-traded corporations. Nine are public; one is government; and one is private."
   ]
  },
  {
   "cell_type": "markdown",
   "id": "eaa00a96",
   "metadata": {},
   "source": [
    "-------------------------------------------------------------------------------------------------------------------------------"
   ]
  },
  {
   "cell_type": "markdown",
   "id": "bb052670",
   "metadata": {},
   "source": [
    "2. Analysis of Data by Company Size: Market Capitalization"
   ]
  },
  {
   "cell_type": "markdown",
   "id": "cfc592c5",
   "metadata": {},
   "source": [
    "Let's understand the sizes of the companies we are dealing with in the dataset. To perform this analysis, we'll remove companies with a market cap that is undefined and use the remaining companies to generate a horizontal bar chart. "
   ]
  },
  {
   "cell_type": "code",
   "execution_count": 43,
   "id": "0921db37",
   "metadata": {},
   "outputs": [
    {
     "data": {
      "text/plain": [
       "Text(0.5, 0, 'Market Capitalization')"
      ]
     },
     "execution_count": 43,
     "metadata": {},
     "output_type": "execute_result"
    },
    {
     "data": {
      "image/png": "[encoded data removed]",
      "text/plain": [
       "<Figure size 432x288 with 1 Axes>"
      ]
     },
     "metadata": {
      "needs_background": "light"
     },
     "output_type": "display_data"
    }
   ],
   "source": [
    "# boolean indexing to remove rows with a 'market_cap' that is undefined\n",
    "x = comp_df_copy['market_cap'] != 'UNKNOWN'\n",
    "comp_df_copy_2 = comp_df_copy[x]\n",
    "\n",
    "comp_mktcap = comp_df_copy_2[['name', 'market_cap']]\n",
    "\n",
    "comp_mktcap = comp_mktcap.sort_values('market_cap')\n",
    "plt.barh(comp_mktcap['name'], comp_mktcap['market_cap'])\n",
    "plt.title('Company Size by Market Capilization')\n",
    "plt.xlabel('Market Capitalization')"
   ]
  },
  {
   "cell_type": "markdown",
   "id": "445c1bc8",
   "metadata": {},
   "source": [
    "Viewing the graph above, it is clearly evident that the Chinese insurance company AIA is the largest by market capitilization."
   ]
  },
  {
   "cell_type": "markdown",
   "id": "1b600b04",
   "metadata": {},
   "source": [
    "-------------------------------------------------------------------------------------------------------------------------------"
   ]
  },
  {
   "cell_type": "markdown",
   "id": "ff295e43",
   "metadata": {},
   "source": [
    "3. Analysis of Data by Company Business Nature/Industry"
   ]
  },
  {
   "cell_type": "code",
   "execution_count": 44,
   "id": "ce49d1dc",
   "metadata": {},
   "outputs": [
    {
     "data": {
      "text/html": [
       "<div>\n",
       "<style scoped>\n",
       "    .dataframe tbody tr th:only-of-type {\n",
       "        vertical-align: middle;\n",
       "    }\n",
       "\n",
       "    .dataframe tbody tr th {\n",
       "        vertical-align: top;\n",
       "    }\n",
       "\n",
       "    .dataframe thead th {\n",
       "        text-align: right;\n",
       "    }\n",
       "</style>\n",
       "<table border=\"1\" class=\"dataframe\">\n",
       "  <thead>\n",
       "    <tr style=\"text-align: right;\">\n",
       "      <th></th>\n",
       "      <th>market_cap</th>\n",
       "      <th>count_companies</th>\n",
       "    </tr>\n",
       "    <tr>\n",
       "      <th>business_nature</th>\n",
       "      <th></th>\n",
       "      <th></th>\n",
       "    </tr>\n",
       "  </thead>\n",
       "  <tbody>\n",
       "    <tr>\n",
       "      <th>INSURANCE</th>\n",
       "      <td>1207.89</td>\n",
       "      <td>3</td>\n",
       "    </tr>\n",
       "    <tr>\n",
       "      <th>RAILWAY</th>\n",
       "      <td>271.0</td>\n",
       "      <td>1</td>\n",
       "    </tr>\n",
       "    <tr>\n",
       "      <th>TELECOM</th>\n",
       "      <td>80.45</td>\n",
       "      <td>1</td>\n",
       "    </tr>\n",
       "    <tr>\n",
       "      <th>BANKING</th>\n",
       "      <td>78.45</td>\n",
       "      <td>1</td>\n",
       "    </tr>\n",
       "    <tr>\n",
       "      <th>AIRLINE</th>\n",
       "      <td>42.29</td>\n",
       "      <td>1</td>\n",
       "    </tr>\n",
       "    <tr>\n",
       "      <th>COMMUNICATIONS</th>\n",
       "      <td>31.6001</td>\n",
       "      <td>1</td>\n",
       "    </tr>\n",
       "    <tr>\n",
       "      <th>CONSULTING</th>\n",
       "      <td>2.32</td>\n",
       "      <td>1</td>\n",
       "    </tr>\n",
       "  </tbody>\n",
       "</table>\n",
       "</div>"
      ],
      "text/plain": [
       "                market_cap  count_companies\n",
       "business_nature                            \n",
       "INSURANCE          1207.89                3\n",
       "RAILWAY              271.0                1\n",
       "TELECOM              80.45                1\n",
       "BANKING              78.45                1\n",
       "AIRLINE              42.29                1\n",
       "COMMUNICATIONS     31.6001                1\n",
       "CONSULTING            2.32                1"
      ]
     },
     "execution_count": 44,
     "metadata": {},
     "output_type": "execute_result"
    }
   ],
   "source": [
    "# boolean indexing to remove rows with a 'market_cap' that is undefined\n",
    "comp_df_copy = comp_df_copy[comp_df_copy['market_cap'] != 'UNKNOWN'].sort_values('market_cap')\n",
    "\n",
    "# creates table with one column for the industry and one column for the industry's total market capitalization\n",
    "comp_df_data = comp_df_copy.groupby('business_nature')['market_cap'].sum()/1000000000\n",
    "comp_df_data.reset_index().sort_values(by = 'market_cap', ascending = False)\n",
    "\n",
    "# determines the count of companies by industry\n",
    "comp_ind_cnt = comp_df_copy.groupby('business_nature')['business_nature'].count()\n",
    "\n",
    "comp_df_data = pd.concat([comp_df_data, comp_ind_cnt], axis = 1)\n",
    "comp_df_data.columns = ['market_cap', 'count_companies']\n",
    "comp_df_data.sort_values(by = 'market_cap', ascending = False)"
   ]
  },
  {
   "cell_type": "markdown",
   "id": "e41ff158",
   "metadata": {},
   "source": [
    "In the table above, we can see that the industry 'Insurance' is the largest by market capitalization in the company dataset. Its value is representative of three insurance companies: AIA (1.1T), Manulife (47.4B), and Prudential (40.5B). Let's create a bar chart to see this data visually..."
   ]
  },
  {
   "cell_type": "code",
   "execution_count": 45,
   "id": "9422519b",
   "metadata": {},
   "outputs": [
    {
     "data": {
      "text/plain": [
       "Text(0, 0.5, 'Market Cap (in USD Billions)')"
      ]
     },
     "execution_count": 45,
     "metadata": {},
     "output_type": "execute_result"
    },
    {
     "data": {
      "image/png": "[encoded data removed]",
      "text/plain": [
       "<Figure size 432x288 with 1 Axes>"
      ]
     },
     "metadata": {
      "needs_background": "light"
     },
     "output_type": "display_data"
    }
   ],
   "source": [
    "comp_df_data['market_cap'].plot.bar()\n",
    "plt.title('Total Market Capitalization by Industry')\n",
    "plt.xlabel('')\n",
    "plt.ylabel('Market Cap (in USD Billions)')"
   ]
  },
  {
   "cell_type": "markdown",
   "id": "870de170",
   "metadata": {},
   "source": [
    "# Summary of Companies: Inferences & Improvements"
   ]
  },
  {
   "cell_type": "markdown",
   "id": "b8867065",
   "metadata": {},
   "source": [
    "After having analyzed the companies dataset, we can infer the following:\n",
    "\n",
    "1. 9 out of 11 companies in the dataset are public companies\n",
    "\n",
    "\n",
    "2. The public Chinese insurance company AIA is the largest by market capitalization in the dataset at 1.12 T (assuming all market caps are in USD)\n",
    "\n",
    "\n",
    "3. The insurance industry is the only business_nature in the dataset with multiple companies - three total. The insurance industry represents that largest by market capitalization in the company dataset and is representative of three companies: AIA (1.1T), Manulife (47.4B), and Prudential (40.5B)."
   ]
  },
  {
   "cell_type": "markdown",
   "id": "e4b0a4af",
   "metadata": {},
   "source": [
    "There are multiple ways this dataset could be improved. A non-exhaustive list includes:\n",
    "\n",
    "- Ensure the fields 'employee_id' and 'company_id' are stored as strings\n",
    "\n",
    "- Store 'market_cap' as an integer or float, so aggregation and analysis can easily be performed on it\n",
    "\n",
    "- Be consistent with the 'name' field. Some values are full companies names while others appear to be abbreviations or ticker symbols\n",
    "\n",
    "- Ensure the employee field is stored as an integer or string representing an integer. The number of employees reported to be working for an organization is never fractional."
   ]
  },
  {
   "cell_type": "markdown",
   "id": "5b108241",
   "metadata": {},
   "source": [
    "# Aggregate Customer Data into Companies Data"
   ]
  },
  {
   "cell_type": "markdown",
   "id": "14d8c94b",
   "metadata": {},
   "source": [
    "After having performed analyses on the customer and company datasets separately, let's combine data from both sets to gain greater insight. First, we need to determine the foreign and primary keys between both datasets to join them."
   ]
  },
  {
   "cell_type": "code",
   "execution_count": 46,
   "id": "965b13e9",
   "metadata": {},
   "outputs": [
    {
     "data": {
      "text/html": [
       "<div>\n",
       "<style scoped>\n",
       "    .dataframe tbody tr th:only-of-type {\n",
       "        vertical-align: middle;\n",
       "    }\n",
       "\n",
       "    .dataframe tbody tr th {\n",
       "        vertical-align: top;\n",
       "    }\n",
       "\n",
       "    .dataframe thead th {\n",
       "        text-align: right;\n",
       "    }\n",
       "</style>\n",
       "<table border=\"1\" class=\"dataframe\">\n",
       "  <thead>\n",
       "    <tr style=\"text-align: right;\">\n",
       "      <th></th>\n",
       "      <th>id</th>\n",
       "      <th>age</th>\n",
       "      <th>gender</th>\n",
       "      <th>email</th>\n",
       "      <th>business_nature</th>\n",
       "      <th>company</th>\n",
       "      <th>position</th>\n",
       "      <th>payment_method</th>\n",
       "      <th>targets</th>\n",
       "      <th>first_name</th>\n",
       "      <th>last_name</th>\n",
       "      <th>target_mean</th>\n",
       "      <th>target_count</th>\n",
       "      <th>target_stdv</th>\n",
       "      <th>full_name</th>\n",
       "    </tr>\n",
       "  </thead>\n",
       "  <tbody>\n",
       "    <tr>\n",
       "      <th>0</th>\n",
       "      <td>0</td>\n",
       "      <td>26</td>\n",
       "      <td>Male</td>\n",
       "      <td>gmail.com</td>\n",
       "      <td>COMMUNICATIONS</td>\n",
       "      <td>UNKNOWN</td>\n",
       "      <td>CUSTOMER SERVICE OFFICER</td>\n",
       "      <td>A</td>\n",
       "      <td>[20670.07, 20632.81, 20722.58, 20332.79, 20662...</td>\n",
       "      <td>John</td>\n",
       "      <td>Melgarejo</td>\n",
       "      <td>20604.16</td>\n",
       "      <td>5</td>\n",
       "      <td>138.736669</td>\n",
       "      <td>John Melgarejo</td>\n",
       "    </tr>\n",
       "    <tr>\n",
       "      <th>1</th>\n",
       "      <td>1</td>\n",
       "      <td>31</td>\n",
       "      <td>Male</td>\n",
       "      <td>ymail.com</td>\n",
       "      <td>GOVERNMENT</td>\n",
       "      <td>UNKNOWN</td>\n",
       "      <td>助理客戶服務主管</td>\n",
       "      <td>A</td>\n",
       "      <td>[31551.75, 32431.83]</td>\n",
       "      <td>William</td>\n",
       "      <td>Kerne</td>\n",
       "      <td>31991.79</td>\n",
       "      <td>2</td>\n",
       "      <td>440.040000</td>\n",
       "      <td>William Kerne</td>\n",
       "    </tr>\n",
       "    <tr>\n",
       "      <th>2</th>\n",
       "      <td>2</td>\n",
       "      <td>26</td>\n",
       "      <td>Male</td>\n",
       "      <td>yahoo.com.hk</td>\n",
       "      <td>RETAIL / WHOLESALE</td>\n",
       "      <td>UNKNOWN</td>\n",
       "      <td>店務員</td>\n",
       "      <td>A</td>\n",
       "      <td>[21686.08, 21282.62, 21566.4]</td>\n",
       "      <td>James</td>\n",
       "      <td>Kadner</td>\n",
       "      <td>21511.70</td>\n",
       "      <td>3</td>\n",
       "      <td>169.192317</td>\n",
       "      <td>James Kadner</td>\n",
       "    </tr>\n",
       "  </tbody>\n",
       "</table>\n",
       "</div>"
      ],
      "text/plain": [
       "   id  age gender         email     business_nature  company  \\\n",
       "0   0   26   Male     gmail.com      COMMUNICATIONS  UNKNOWN   \n",
       "1   1   31   Male     ymail.com          GOVERNMENT  UNKNOWN   \n",
       "2   2   26   Male  yahoo.com.hk  RETAIL / WHOLESALE  UNKNOWN   \n",
       "\n",
       "                   position payment_method  \\\n",
       "0  CUSTOMER SERVICE OFFICER              A   \n",
       "1                  助理客戶服務主管              A   \n",
       "2                       店務員              A   \n",
       "\n",
       "                                             targets first_name  last_name  \\\n",
       "0  [20670.07, 20632.81, 20722.58, 20332.79, 20662...       John  Melgarejo   \n",
       "1                               [31551.75, 32431.83]    William      Kerne   \n",
       "2                      [21686.08, 21282.62, 21566.4]      James     Kadner   \n",
       "\n",
       "   target_mean  target_count  target_stdv       full_name  \n",
       "0     20604.16             5   138.736669  John Melgarejo  \n",
       "1     31991.79             2   440.040000   William Kerne  \n",
       "2     21511.70             3   169.192317    James Kadner  "
      ]
     },
     "execution_count": 46,
     "metadata": {},
     "output_type": "execute_result"
    }
   ],
   "source": [
    "cust_df_copy_2.head(3)"
   ]
  },
  {
   "cell_type": "markdown",
   "id": "8af5b465",
   "metadata": {},
   "source": [
    "In the sample above, it looks like the field 'company' from the customer dataset will be utilized to join it to 'name' in the company dataset. In this scenario, 'name' would be a primary key and 'company' a foreign key. Their relation is represented by a one to many relationship. In other words, there are one or more companies in the customer dataset for every single, unique company in the company dataset. "
   ]
  },
  {
   "cell_type": "markdown",
   "id": "1f46b300",
   "metadata": {},
   "source": [
    "Before we merge the datasets, let's perform aggregations on the 'customer' dataset using 'company' as the groupby field. We'll develop supportive visualizations from the these aggregations to tell a story.\n",
    "\n",
    "Note: aggregations by company will be off of the 'target_mean', not 'targets' in an effort to smooth the data."
   ]
  },
  {
   "cell_type": "code",
   "execution_count": 47,
   "id": "c0cad1f6",
   "metadata": {},
   "outputs": [
    {
     "data": {
      "text/html": [
       "<div>\n",
       "<style scoped>\n",
       "    .dataframe tbody tr th:only-of-type {\n",
       "        vertical-align: middle;\n",
       "    }\n",
       "\n",
       "    .dataframe tbody tr th {\n",
       "        vertical-align: top;\n",
       "    }\n",
       "\n",
       "    .dataframe thead th {\n",
       "        text-align: right;\n",
       "    }\n",
       "</style>\n",
       "<table border=\"1\" class=\"dataframe\">\n",
       "  <thead>\n",
       "    <tr style=\"text-align: right;\">\n",
       "      <th></th>\n",
       "      <th>company</th>\n",
       "      <th>total_employees</th>\n",
       "      <th>sum_targets</th>\n",
       "      <th>mean_target</th>\n",
       "      <th>max_target</th>\n",
       "      <th>min_target</th>\n",
       "      <th>count_targets</th>\n",
       "    </tr>\n",
       "  </thead>\n",
       "  <tbody>\n",
       "    <tr>\n",
       "      <th>4672</th>\n",
       "      <td>UNKNOWN</td>\n",
       "      <td>204</td>\n",
       "      <td>3.206055e+06</td>\n",
       "      <td>15715.957338</td>\n",
       "      <td>72159.250000</td>\n",
       "      <td>-1950.875000</td>\n",
       "      <td>627</td>\n",
       "    </tr>\n",
       "    <tr>\n",
       "      <th>2154</th>\n",
       "      <td>HSBC</td>\n",
       "      <td>41</td>\n",
       "      <td>2.052674e+06</td>\n",
       "      <td>50065.215333</td>\n",
       "      <td>230130.260000</td>\n",
       "      <td>13237.300000</td>\n",
       "      <td>110</td>\n",
       "    </tr>\n",
       "    <tr>\n",
       "      <th>2134</th>\n",
       "      <td>HOSPITAL AUTHORITY</td>\n",
       "      <td>28</td>\n",
       "      <td>1.741929e+06</td>\n",
       "      <td>62211.763315</td>\n",
       "      <td>290725.340000</td>\n",
       "      <td>15109.818000</td>\n",
       "      <td>88</td>\n",
       "    </tr>\n",
       "    <tr>\n",
       "      <th>143</th>\n",
       "      <td>AIA</td>\n",
       "      <td>22</td>\n",
       "      <td>9.996178e+05</td>\n",
       "      <td>45437.174667</td>\n",
       "      <td>112461.116667</td>\n",
       "      <td>15219.496667</td>\n",
       "      <td>67</td>\n",
       "    </tr>\n",
       "    <tr>\n",
       "      <th>2056</th>\n",
       "      <td>HONG KONG POLICE FORCE</td>\n",
       "      <td>15</td>\n",
       "      <td>8.260997e+05</td>\n",
       "      <td>55073.314767</td>\n",
       "      <td>152179.670000</td>\n",
       "      <td>14877.435000</td>\n",
       "      <td>39</td>\n",
       "    </tr>\n",
       "  </tbody>\n",
       "</table>\n",
       "</div>"
      ],
      "text/plain": [
       "                     company  total_employees   sum_targets   mean_target  \\\n",
       "4672                 UNKNOWN              204  3.206055e+06  15715.957338   \n",
       "2154                    HSBC               41  2.052674e+06  50065.215333   \n",
       "2134      HOSPITAL AUTHORITY               28  1.741929e+06  62211.763315   \n",
       "143                      AIA               22  9.996178e+05  45437.174667   \n",
       "2056  HONG KONG POLICE FORCE               15  8.260997e+05  55073.314767   \n",
       "\n",
       "         max_target    min_target  count_targets  \n",
       "4672   72159.250000  -1950.875000            627  \n",
       "2154  230130.260000  13237.300000            110  \n",
       "2134  290725.340000  15109.818000             88  \n",
       "143   112461.116667  15219.496667             67  \n",
       "2056  152179.670000  14877.435000             39  "
      ]
     },
     "execution_count": 47,
     "metadata": {},
     "output_type": "execute_result"
    }
   ],
   "source": [
    "# groups by 'company' and peforms multiple aggregations on the field 'target_mean'\n",
    "cust_df_slice = cust_df_copy_2.groupby('company')['target_mean'].aggregate(['count','sum','mean','max','min']).reset_index()\n",
    "\n",
    "# groups by 'company' and peforms one aggregation on 'target_count'\n",
    "cust_df_slice_2 = cust_df_copy_2.groupby('company')['target_count'].aggregate('sum').reset_index()\n",
    "\n",
    "# merges the two groupby dataframes above\n",
    "result = pd.merge(left = cust_df_slice, right = cust_df_slice_2, on = 'company')\n",
    "\n",
    "# renames columns and returns the top 5 largest companies by 'sum_targets'\n",
    "result.columns = ['company', 'total_employees','sum_targets','mean_target','max_target','min_target','count_targets']\n",
    "result.nlargest(n = 5, columns = 'sum_targets')"
   ]
  },
  {
   "cell_type": "code",
   "execution_count": 48,
   "id": "0e5d8bcc",
   "metadata": {},
   "outputs": [
    {
     "data": {
      "text/plain": [
       "Text(0.5, 0, 'Total Target Value')"
      ]
     },
     "execution_count": 48,
     "metadata": {},
     "output_type": "execute_result"
    },
    {
     "data": {
      "image/png": "[encoded data removed]",
      "text/plain": [
       "<Figure size 432x288 with 1 Axes>"
      ]
     },
     "metadata": {
      "needs_background": "light"
     },
     "output_type": "display_data"
    }
   ],
   "source": [
    "b = result[['company','sum_targets']].nlargest(n = 5, columns = 'sum_targets').sort_values(by = 'sum_targets')\n",
    "\n",
    "plt.barh(b['company'], b['sum_targets'])\n",
    "plt.title('Top 5 Companies by Total Target Value')\n",
    "plt.xlabel('Total Target Value')"
   ]
  },
  {
   "cell_type": "markdown",
   "id": "7a06b622",
   "metadata": {},
   "source": [
    "Viewing the top 5 companies by 'sum_targets' in table above, there appears to be three companies present from the 'company' dataset: HSBC, AIA, and Hong Kong Police Force. Among these three companies, HSBC has the highest 'sum_targets' and 'count_targets'."
   ]
  },
  {
   "cell_type": "markdown",
   "id": "a921b7a6",
   "metadata": {},
   "source": [
    "Now, let's see how many employees work for the top 5 companies by total employees:"
   ]
  },
  {
   "cell_type": "code",
   "execution_count": 49,
   "id": "92002cd2",
   "metadata": {},
   "outputs": [
    {
     "data": {
      "text/plain": [
       "Text(0.5, 0, 'Number of Employees')"
      ]
     },
     "execution_count": 49,
     "metadata": {},
     "output_type": "execute_result"
    },
    {
     "data": {
      "image/png": "[encoded data removed]",
      "text/plain": [
       "<Figure size 432x288 with 1 Axes>"
      ]
     },
     "metadata": {
      "needs_background": "light"
     },
     "output_type": "display_data"
    }
   ],
   "source": [
    "a = result[['company','total_employees']].nlargest(n = 5, columns = 'total_employees').sort_values(by = 'total_employees')\n",
    "\n",
    "plt.barh(y = a['company'], width = a['total_employees'])\n",
    "plt.title('Top 5 Companies by Number of Employees')\n",
    "plt.xlabel('Number of Employees')"
   ]
  },
  {
   "cell_type": "markdown",
   "id": "a1ebbc94",
   "metadata": {},
   "source": [
    "The graph clearly shows gaps in the data - over 200 employees do not have a company assigned to them."
   ]
  },
  {
   "cell_type": "markdown",
   "id": "46b21c5d",
   "metadata": {},
   "source": [
    "# Dataset Merging"
   ]
  },
  {
   "cell_type": "markdown",
   "id": "552ca2f4",
   "metadata": {},
   "source": [
    "We are now ready to merge the aggregated company data from the 'customer' dataset with the 'company' dataset. Before merging, let's view the first two records of both datasets to understand what will be combined:"
   ]
  },
  {
   "cell_type": "code",
   "execution_count": 50,
   "id": "63b12ce3",
   "metadata": {},
   "outputs": [
    {
     "data": {
      "text/html": [
       "<div>\n",
       "<style scoped>\n",
       "    .dataframe tbody tr th:only-of-type {\n",
       "        vertical-align: middle;\n",
       "    }\n",
       "\n",
       "    .dataframe tbody tr th {\n",
       "        vertical-align: top;\n",
       "    }\n",
       "\n",
       "    .dataframe thead th {\n",
       "        text-align: right;\n",
       "    }\n",
       "</style>\n",
       "<table border=\"1\" class=\"dataframe\">\n",
       "  <thead>\n",
       "    <tr style=\"text-align: right;\">\n",
       "      <th></th>\n",
       "      <th>company</th>\n",
       "      <th>total_employees</th>\n",
       "      <th>sum_targets</th>\n",
       "      <th>mean_target</th>\n",
       "      <th>max_target</th>\n",
       "      <th>min_target</th>\n",
       "      <th>count_targets</th>\n",
       "    </tr>\n",
       "  </thead>\n",
       "  <tbody>\n",
       "    <tr>\n",
       "      <th>2646</th>\n",
       "      <td>KPMG</td>\n",
       "      <td>8</td>\n",
       "      <td>297722.4125</td>\n",
       "      <td>37215.301563</td>\n",
       "      <td>52247.2175</td>\n",
       "      <td>13746.51</td>\n",
       "      <td>26</td>\n",
       "    </tr>\n",
       "  </tbody>\n",
       "</table>\n",
       "</div>"
      ],
      "text/plain": [
       "     company  total_employees  sum_targets   mean_target  max_target  \\\n",
       "2646    KPMG                8  297722.4125  37215.301563  52247.2175   \n",
       "\n",
       "      min_target  count_targets  \n",
       "2646    13746.51             26  "
      ]
     },
     "execution_count": 50,
     "metadata": {},
     "output_type": "execute_result"
    }
   ],
   "source": [
    "# sample from 'customer' dataset\n",
    "result[result['company'] == 'KPMG']"
   ]
  },
  {
   "cell_type": "code",
   "execution_count": 51,
   "id": "44a7ef3e",
   "metadata": {},
   "outputs": [
    {
     "data": {
      "text/html": [
       "<div>\n",
       "<style scoped>\n",
       "    .dataframe tbody tr th:only-of-type {\n",
       "        vertical-align: middle;\n",
       "    }\n",
       "\n",
       "    .dataframe tbody tr th {\n",
       "        vertical-align: top;\n",
       "    }\n",
       "\n",
       "    .dataframe thead th {\n",
       "        text-align: right;\n",
       "    }\n",
       "</style>\n",
       "<table border=\"1\" class=\"dataframe\">\n",
       "  <thead>\n",
       "    <tr style=\"text-align: right;\">\n",
       "      <th></th>\n",
       "      <th>company_id</th>\n",
       "      <th>name</th>\n",
       "      <th>domain</th>\n",
       "      <th>business_nature</th>\n",
       "      <th>employee_number</th>\n",
       "      <th>type</th>\n",
       "      <th>market_cap</th>\n",
       "    </tr>\n",
       "  </thead>\n",
       "  <tbody>\n",
       "    <tr>\n",
       "      <th>8</th>\n",
       "      <td>621621320</td>\n",
       "      <td>KPMG</td>\n",
       "      <td>home.kpmg</td>\n",
       "      <td>CONSULTING</td>\n",
       "      <td>227000</td>\n",
       "      <td>PUBLIC</td>\n",
       "      <td>2320000000.0</td>\n",
       "    </tr>\n",
       "  </tbody>\n",
       "</table>\n",
       "</div>"
      ],
      "text/plain": [
       "  company_id  name     domain business_nature employee_number    type  \\\n",
       "8  621621320  KPMG  home.kpmg      CONSULTING          227000  PUBLIC   \n",
       "\n",
       "     market_cap  \n",
       "8  2320000000.0  "
      ]
     },
     "execution_count": 51,
     "metadata": {},
     "output_type": "execute_result"
    }
   ],
   "source": [
    "# need to create a new copy since some records with undefined values were removed earlier\n",
    "comp_df_copy_3 = comp_df.my_dataframe.copy(deep = True)\n",
    "\n",
    "# sample from 'company' dataset\n",
    "comp_df_copy_3[comp_df_copy_3['name'] == 'KPMG']"
   ]
  },
  {
   "cell_type": "markdown",
   "id": "94717871",
   "metadata": {},
   "source": [
    "Recall that using the 'company' field from the 'customer' dataset and 'name' field from the 'company' dataset, we will be able to successfully merge both tables. We will perform an inner join on both tables and will need to specify both columns for the script to work."
   ]
  },
  {
   "cell_type": "code",
   "execution_count": 52,
   "id": "d7dbd809",
   "metadata": {},
   "outputs": [
    {
     "data": {
      "text/html": [
       "<div>\n",
       "<style scoped>\n",
       "    .dataframe tbody tr th:only-of-type {\n",
       "        vertical-align: middle;\n",
       "    }\n",
       "\n",
       "    .dataframe tbody tr th {\n",
       "        vertical-align: top;\n",
       "    }\n",
       "\n",
       "    .dataframe thead th {\n",
       "        text-align: right;\n",
       "    }\n",
       "</style>\n",
       "<table border=\"1\" class=\"dataframe\">\n",
       "  <thead>\n",
       "    <tr style=\"text-align: right;\">\n",
       "      <th></th>\n",
       "      <th>company_id</th>\n",
       "      <th>name</th>\n",
       "      <th>business_nature</th>\n",
       "      <th>employee_number</th>\n",
       "      <th>type</th>\n",
       "      <th>market_cap</th>\n",
       "      <th>total_employees</th>\n",
       "      <th>sum_targets</th>\n",
       "      <th>mean_target</th>\n",
       "      <th>max_target</th>\n",
       "      <th>min_target</th>\n",
       "      <th>count_targets</th>\n",
       "    </tr>\n",
       "  </thead>\n",
       "  <tbody>\n",
       "    <tr>\n",
       "      <th>0</th>\n",
       "      <td>00123122</td>\n",
       "      <td>HSBC</td>\n",
       "      <td>BANKING</td>\n",
       "      <td>226059</td>\n",
       "      <td>PUBLIC</td>\n",
       "      <td>78450000000.0</td>\n",
       "      <td>41</td>\n",
       "      <td>2.052674e+06</td>\n",
       "      <td>50065.215333</td>\n",
       "      <td>230130.260000</td>\n",
       "      <td>13237.300000</td>\n",
       "      <td>110</td>\n",
       "    </tr>\n",
       "    <tr>\n",
       "      <th>1</th>\n",
       "      <td>878434523</td>\n",
       "      <td>AIA</td>\n",
       "      <td>INSURANCE</td>\n",
       "      <td>23000</td>\n",
       "      <td>PUBLIC</td>\n",
       "      <td>1120000000000.0</td>\n",
       "      <td>22</td>\n",
       "      <td>9.996178e+05</td>\n",
       "      <td>45437.174667</td>\n",
       "      <td>112461.116667</td>\n",
       "      <td>15219.496667</td>\n",
       "      <td>67</td>\n",
       "    </tr>\n",
       "    <tr>\n",
       "      <th>2</th>\n",
       "      <td>3423656</td>\n",
       "      <td>MTR</td>\n",
       "      <td>RAILWAY</td>\n",
       "      <td>28035</td>\n",
       "      <td>PUBLIC</td>\n",
       "      <td>271000000000.0</td>\n",
       "      <td>20</td>\n",
       "      <td>5.083899e+05</td>\n",
       "      <td>25419.493733</td>\n",
       "      <td>50407.465000</td>\n",
       "      <td>13289.392000</td>\n",
       "      <td>64</td>\n",
       "    </tr>\n",
       "    <tr>\n",
       "      <th>3</th>\n",
       "      <td>452352</td>\n",
       "      <td>PCCW</td>\n",
       "      <td>COMMUNICATIONS</td>\n",
       "      <td>22800</td>\n",
       "      <td>PUBLIC</td>\n",
       "      <td>31600100000.0</td>\n",
       "      <td>27</td>\n",
       "      <td>6.941012e+05</td>\n",
       "      <td>25707.451321</td>\n",
       "      <td>55274.292000</td>\n",
       "      <td>15143.560000</td>\n",
       "      <td>91</td>\n",
       "    </tr>\n",
       "    <tr>\n",
       "      <th>4</th>\n",
       "      <td>4342ff34</td>\n",
       "      <td>HKT</td>\n",
       "      <td>TELECOM</td>\n",
       "      <td>15900</td>\n",
       "      <td>PUBLIC</td>\n",
       "      <td>80450000000.0</td>\n",
       "      <td>21</td>\n",
       "      <td>5.288780e+05</td>\n",
       "      <td>25184.668040</td>\n",
       "      <td>45573.666667</td>\n",
       "      <td>12711.643333</td>\n",
       "      <td>65</td>\n",
       "    </tr>\n",
       "    <tr>\n",
       "      <th>5</th>\n",
       "      <td>534534</td>\n",
       "      <td>MANULIFE</td>\n",
       "      <td>INSURANCE</td>\n",
       "      <td>34000</td>\n",
       "      <td>PUBLIC</td>\n",
       "      <td>47400000000.0</td>\n",
       "      <td>17</td>\n",
       "      <td>4.238329e+05</td>\n",
       "      <td>24931.345118</td>\n",
       "      <td>54885.790000</td>\n",
       "      <td>10058.813333</td>\n",
       "      <td>38</td>\n",
       "    </tr>\n",
       "    <tr>\n",
       "      <th>6</th>\n",
       "      <td>232131</td>\n",
       "      <td>CATHAY PACIFIC AIRWAYS</td>\n",
       "      <td>AIRLINE</td>\n",
       "      <td>35000</td>\n",
       "      <td>PUBLIC</td>\n",
       "      <td>42290000000.0</td>\n",
       "      <td>19</td>\n",
       "      <td>6.190651e+05</td>\n",
       "      <td>32582.375781</td>\n",
       "      <td>58091.250000</td>\n",
       "      <td>15253.050000</td>\n",
       "      <td>61</td>\n",
       "    </tr>\n",
       "    <tr>\n",
       "      <th>7</th>\n",
       "      <td>123555342</td>\n",
       "      <td>HONG KONG POLICE FORCE</td>\n",
       "      <td>LAW ENFORCEMENT</td>\n",
       "      <td>36681</td>\n",
       "      <td>GOVERNMENT</td>\n",
       "      <td>UNKNOWN</td>\n",
       "      <td>15</td>\n",
       "      <td>8.260997e+05</td>\n",
       "      <td>55073.314767</td>\n",
       "      <td>152179.670000</td>\n",
       "      <td>14877.435000</td>\n",
       "      <td>39</td>\n",
       "    </tr>\n",
       "    <tr>\n",
       "      <th>8</th>\n",
       "      <td>621621320</td>\n",
       "      <td>KPMG</td>\n",
       "      <td>CONSULTING</td>\n",
       "      <td>227000</td>\n",
       "      <td>PUBLIC</td>\n",
       "      <td>2320000000.0</td>\n",
       "      <td>8</td>\n",
       "      <td>2.977224e+05</td>\n",
       "      <td>37215.301563</td>\n",
       "      <td>52247.217500</td>\n",
       "      <td>13746.510000</td>\n",
       "      <td>26</td>\n",
       "    </tr>\n",
       "    <tr>\n",
       "      <th>9</th>\n",
       "      <td>998411df</td>\n",
       "      <td>HAECO</td>\n",
       "      <td>AEROSPACE</td>\n",
       "      <td>16641</td>\n",
       "      <td>PRIVATE</td>\n",
       "      <td>UNKNOWN</td>\n",
       "      <td>12</td>\n",
       "      <td>2.649501e+05</td>\n",
       "      <td>22079.176667</td>\n",
       "      <td>32233.472500</td>\n",
       "      <td>15907.095000</td>\n",
       "      <td>34</td>\n",
       "    </tr>\n",
       "    <tr>\n",
       "      <th>10</th>\n",
       "      <td>df879987</td>\n",
       "      <td>PRUDENTIAL</td>\n",
       "      <td>INSURANCE</td>\n",
       "      <td>41671</td>\n",
       "      <td>PUBLIC</td>\n",
       "      <td>40490000000.0</td>\n",
       "      <td>9</td>\n",
       "      <td>4.265058e+05</td>\n",
       "      <td>47389.528611</td>\n",
       "      <td>171764.550000</td>\n",
       "      <td>12608.040000</td>\n",
       "      <td>23</td>\n",
       "    </tr>\n",
       "  </tbody>\n",
       "</table>\n",
       "</div>"
      ],
      "text/plain": [
       "   company_id                    name  business_nature employee_number  \\\n",
       "0    00123122                    HSBC          BANKING          226059   \n",
       "1   878434523                     AIA        INSURANCE           23000   \n",
       "2     3423656                     MTR          RAILWAY           28035   \n",
       "3      452352                    PCCW   COMMUNICATIONS           22800   \n",
       "4    4342ff34                     HKT          TELECOM           15900   \n",
       "5      534534                MANULIFE        INSURANCE           34000   \n",
       "6      232131  CATHAY PACIFIC AIRWAYS          AIRLINE           35000   \n",
       "7   123555342  HONG KONG POLICE FORCE  LAW ENFORCEMENT           36681   \n",
       "8   621621320                    KPMG       CONSULTING          227000   \n",
       "9    998411df                   HAECO        AEROSPACE           16641   \n",
       "10   df879987              PRUDENTIAL        INSURANCE           41671   \n",
       "\n",
       "          type       market_cap  total_employees   sum_targets   mean_target  \\\n",
       "0       PUBLIC    78450000000.0               41  2.052674e+06  50065.215333   \n",
       "1       PUBLIC  1120000000000.0               22  9.996178e+05  45437.174667   \n",
       "2       PUBLIC   271000000000.0               20  5.083899e+05  25419.493733   \n",
       "3       PUBLIC    31600100000.0               27  6.941012e+05  25707.451321   \n",
       "4       PUBLIC    80450000000.0               21  5.288780e+05  25184.668040   \n",
       "5       PUBLIC    47400000000.0               17  4.238329e+05  24931.345118   \n",
       "6       PUBLIC    42290000000.0               19  6.190651e+05  32582.375781   \n",
       "7   GOVERNMENT          UNKNOWN               15  8.260997e+05  55073.314767   \n",
       "8       PUBLIC     2320000000.0                8  2.977224e+05  37215.301563   \n",
       "9      PRIVATE          UNKNOWN               12  2.649501e+05  22079.176667   \n",
       "10      PUBLIC    40490000000.0                9  4.265058e+05  47389.528611   \n",
       "\n",
       "       max_target    min_target  count_targets  \n",
       "0   230130.260000  13237.300000            110  \n",
       "1   112461.116667  15219.496667             67  \n",
       "2    50407.465000  13289.392000             64  \n",
       "3    55274.292000  15143.560000             91  \n",
       "4    45573.666667  12711.643333             65  \n",
       "5    54885.790000  10058.813333             38  \n",
       "6    58091.250000  15253.050000             61  \n",
       "7   152179.670000  14877.435000             39  \n",
       "8    52247.217500  13746.510000             26  \n",
       "9    32233.472500  15907.095000             34  \n",
       "10  171764.550000  12608.040000             23  "
      ]
     },
     "execution_count": 52,
     "metadata": {},
     "output_type": "execute_result"
    }
   ],
   "source": [
    "# inner join with related columns specified\n",
    "agg_company_df = comp_df_copy_3.merge(right = result, left_on = 'name', right_on = 'company')\n",
    "\n",
    "# removes superfluous columns from the joined table\n",
    "agg_company_df = agg_company_df.drop(labels = ['domain','company'], axis = 1)\n",
    "\n",
    "agg_company_df"
   ]
  },
  {
   "cell_type": "markdown",
   "id": "60ec89e1",
   "metadata": {},
   "source": [
    "Great! All 11 companies from the 'company' dataset appear in the 'customer' dataset. Now, let's analyze the combined dataset the following ways:\n",
    "\n",
    "    1. Analysis of Companies by Total Target Value\n",
    "    2. Analysis of Companies and Employees\n",
    "    3. Analysis of the Correlation between Different Values (e.g.; Total Target Value vs. Employees)"
   ]
  },
  {
   "cell_type": "markdown",
   "id": "68a85dc7",
   "metadata": {},
   "source": [
    "-------------------------------------------------------------------------------------------------------------------------------"
   ]
  },
  {
   "cell_type": "markdown",
   "id": "1254c952",
   "metadata": {},
   "source": [
    "1. Analysis of Companies by Total Target Value"
   ]
  },
  {
   "cell_type": "code",
   "execution_count": 53,
   "id": "42ac0fc8",
   "metadata": {},
   "outputs": [
    {
     "data": {
      "text/plain": [
       "Text(0.5, 0, 'Total Target Value')"
      ]
     },
     "execution_count": 53,
     "metadata": {},
     "output_type": "execute_result"
    },
    {
     "data": {
      "image/png": "[encoded data removed]",
      "text/plain": [
       "<Figure size 432x288 with 1 Axes>"
      ]
     },
     "metadata": {
      "needs_background": "light"
     },
     "output_type": "display_data"
    }
   ],
   "source": [
    "y = agg_company_df[['name', 'sum_targets']]\n",
    "y = y.sort_values(by = 'sum_targets')\n",
    "plt.barh(y['name'], y['sum_targets'])\n",
    "plt.title('Total Target Value by Company')\n",
    "plt.xlabel('Total Target Value')"
   ]
  },
  {
   "cell_type": "markdown",
   "id": "837237bd",
   "metadata": {},
   "source": [
    "The graph above shows that the company 'HSBC' has the largest total target value in the 'customer' dataset at ~20.5M. HSBC is also more than double the next highest company, 'AIA', in total target value."
   ]
  },
  {
   "cell_type": "markdown",
   "id": "cb92f114",
   "metadata": {},
   "source": [
    "-------------------------------------------------------------------------------------------------------------------------------"
   ]
  },
  {
   "cell_type": "markdown",
   "id": "aa36971c",
   "metadata": {},
   "source": [
    "2. Analysis of Companies by Employees"
   ]
  },
  {
   "cell_type": "markdown",
   "id": "4fb7fadb",
   "metadata": {},
   "source": [
    "Now that we have an idea of the companies and their total target values, let's try to find out how many employees each company has in the 'customer' dataset. We'll use boolean indexing to return those companies with greater than 20 employees."
   ]
  },
  {
   "cell_type": "code",
   "execution_count": 54,
   "id": "e87cebc4",
   "metadata": {},
   "outputs": [
    {
     "data": {
      "text/html": [
       "<div>\n",
       "<style scoped>\n",
       "    .dataframe tbody tr th:only-of-type {\n",
       "        vertical-align: middle;\n",
       "    }\n",
       "\n",
       "    .dataframe tbody tr th {\n",
       "        vertical-align: top;\n",
       "    }\n",
       "\n",
       "    .dataframe thead th {\n",
       "        text-align: right;\n",
       "    }\n",
       "</style>\n",
       "<table border=\"1\" class=\"dataframe\">\n",
       "  <thead>\n",
       "    <tr style=\"text-align: right;\">\n",
       "      <th></th>\n",
       "      <th>company_id</th>\n",
       "      <th>name</th>\n",
       "      <th>business_nature</th>\n",
       "      <th>employee_number</th>\n",
       "      <th>type</th>\n",
       "      <th>market_cap</th>\n",
       "      <th>total_employees</th>\n",
       "      <th>sum_targets</th>\n",
       "      <th>mean_target</th>\n",
       "      <th>max_target</th>\n",
       "      <th>min_target</th>\n",
       "      <th>count_targets</th>\n",
       "    </tr>\n",
       "  </thead>\n",
       "  <tbody>\n",
       "    <tr>\n",
       "      <th>0</th>\n",
       "      <td>00123122</td>\n",
       "      <td>HSBC</td>\n",
       "      <td>BANKING</td>\n",
       "      <td>226059</td>\n",
       "      <td>PUBLIC</td>\n",
       "      <td>78450000000.0</td>\n",
       "      <td>41</td>\n",
       "      <td>2.052674e+06</td>\n",
       "      <td>50065.215333</td>\n",
       "      <td>230130.260000</td>\n",
       "      <td>13237.300000</td>\n",
       "      <td>110</td>\n",
       "    </tr>\n",
       "    <tr>\n",
       "      <th>1</th>\n",
       "      <td>878434523</td>\n",
       "      <td>AIA</td>\n",
       "      <td>INSURANCE</td>\n",
       "      <td>23000</td>\n",
       "      <td>PUBLIC</td>\n",
       "      <td>1120000000000.0</td>\n",
       "      <td>22</td>\n",
       "      <td>9.996178e+05</td>\n",
       "      <td>45437.174667</td>\n",
       "      <td>112461.116667</td>\n",
       "      <td>15219.496667</td>\n",
       "      <td>67</td>\n",
       "    </tr>\n",
       "    <tr>\n",
       "      <th>3</th>\n",
       "      <td>452352</td>\n",
       "      <td>PCCW</td>\n",
       "      <td>COMMUNICATIONS</td>\n",
       "      <td>22800</td>\n",
       "      <td>PUBLIC</td>\n",
       "      <td>31600100000.0</td>\n",
       "      <td>27</td>\n",
       "      <td>6.941012e+05</td>\n",
       "      <td>25707.451321</td>\n",
       "      <td>55274.292000</td>\n",
       "      <td>15143.560000</td>\n",
       "      <td>91</td>\n",
       "    </tr>\n",
       "    <tr>\n",
       "      <th>4</th>\n",
       "      <td>4342ff34</td>\n",
       "      <td>HKT</td>\n",
       "      <td>TELECOM</td>\n",
       "      <td>15900</td>\n",
       "      <td>PUBLIC</td>\n",
       "      <td>80450000000.0</td>\n",
       "      <td>21</td>\n",
       "      <td>5.288780e+05</td>\n",
       "      <td>25184.668040</td>\n",
       "      <td>45573.666667</td>\n",
       "      <td>12711.643333</td>\n",
       "      <td>65</td>\n",
       "    </tr>\n",
       "  </tbody>\n",
       "</table>\n",
       "</div>"
      ],
      "text/plain": [
       "  company_id  name business_nature employee_number    type       market_cap  \\\n",
       "0   00123122  HSBC         BANKING          226059  PUBLIC    78450000000.0   \n",
       "1  878434523   AIA       INSURANCE           23000  PUBLIC  1120000000000.0   \n",
       "3     452352  PCCW  COMMUNICATIONS           22800  PUBLIC    31600100000.0   \n",
       "4   4342ff34   HKT         TELECOM           15900  PUBLIC    80450000000.0   \n",
       "\n",
       "   total_employees   sum_targets   mean_target     max_target    min_target  \\\n",
       "0               41  2.052674e+06  50065.215333  230130.260000  13237.300000   \n",
       "1               22  9.996178e+05  45437.174667  112461.116667  15219.496667   \n",
       "3               27  6.941012e+05  25707.451321   55274.292000  15143.560000   \n",
       "4               21  5.288780e+05  25184.668040   45573.666667  12711.643333   \n",
       "\n",
       "   count_targets  \n",
       "0            110  \n",
       "1             67  \n",
       "3             91  \n",
       "4             65  "
      ]
     },
     "execution_count": 54,
     "metadata": {},
     "output_type": "execute_result"
    }
   ],
   "source": [
    "# boolean indexing returns companies with more than 20 employees in the 'customer' dataset\n",
    "x = agg_company_df['total_employees'] > 20\n",
    "agg_company_df[x]"
   ]
  },
  {
   "cell_type": "markdown",
   "id": "d00a929d",
   "metadata": {},
   "source": [
    "Viewing the table above, we can see that HSBC also has the most employees present in the 'customer' dataset. This suggests a positive correlation between 'total_employees' and 'sum_targets'. Let's create a scatter plot in the next step to validate this..."
   ]
  },
  {
   "cell_type": "markdown",
   "id": "c82ace57",
   "metadata": {},
   "source": [
    "-------------------------------------------------------------------------------------------------------------------------------"
   ]
  },
  {
   "cell_type": "markdown",
   "id": "bfca6a4b",
   "metadata": {},
   "source": [
    "3. Analysis of the Correlation between Different Values (e.g.; Total Target Value vs. Employees)"
   ]
  },
  {
   "cell_type": "code",
   "execution_count": 55,
   "id": "1011c80a",
   "metadata": {},
   "outputs": [
    {
     "data": {
      "text/plain": [
       "Text(0, 0.5, 'Total Target Value')"
      ]
     },
     "execution_count": 55,
     "metadata": {},
     "output_type": "execute_result"
    },
    {
     "data": {
      "image/png": "[encoded data removed]",
      "text/plain": [
       "<Figure size 432x288 with 1 Axes>"
      ]
     },
     "metadata": {
      "needs_background": "light"
     },
     "output_type": "display_data"
    }
   ],
   "source": [
    "# creates a scatter plot of 'total_employees' vs. 'sum_targets'\n",
    "agg_company_df.plot.scatter(x = 'total_employees',y = 'sum_targets')\n",
    "plt.title('Number of Employees vs. Total Target Value')\n",
    "plt.xlabel('Number of Employees')\n",
    "plt.ylabel('Total Target Value')"
   ]
  },
  {
   "cell_type": "markdown",
   "id": "37f89bff",
   "metadata": {},
   "source": [
    "The scatter plot above confirms that there is a positive correlation between the number of employees present in the 'customer' dataset and the total target value."
   ]
  },
  {
   "cell_type": "markdown",
   "id": "fcf66ba4",
   "metadata": {},
   "source": [
    "While we are here, let's quickly understand the correlation between 'market_cap' and 'sum_targets' and 'market_cap' and 'count_targets'"
   ]
  },
  {
   "cell_type": "code",
   "execution_count": 56,
   "id": "f02ea38e",
   "metadata": {},
   "outputs": [
    {
     "data": {
      "text/plain": [
       "Text(0, 0.5, 'Total Target Value')"
      ]
     },
     "execution_count": 56,
     "metadata": {},
     "output_type": "execute_result"
    },
    {
     "data": {
      "image/png": "[encoded data removed]",
      "text/plain": [
       "<Figure size 432x288 with 1 Axes>"
      ]
     },
     "metadata": {
      "needs_background": "light"
     },
     "output_type": "display_data"
    }
   ],
   "source": [
    "z = agg_company_df[agg_company_df['market_cap'] != 'UNKNOWN']\n",
    "\n",
    "z.plot.scatter(x = 'market_cap', y = 'sum_targets')\n",
    "plt.title('Market Capitalization vs. Total Target Value')\n",
    "plt.xlabel('Market Capitalization')\n",
    "plt.ylabel('Total Target Value')"
   ]
  },
  {
   "cell_type": "code",
   "execution_count": 57,
   "id": "9db3dd6c",
   "metadata": {},
   "outputs": [
    {
     "data": {
      "text/plain": [
       "Text(0, 0.5, 'Count of Targets')"
      ]
     },
     "execution_count": 57,
     "metadata": {},
     "output_type": "execute_result"
    },
    {
     "data": {
      "image/png": "[encoded data removed]",
      "text/plain": [
       "<Figure size 432x288 with 1 Axes>"
      ]
     },
     "metadata": {
      "needs_background": "light"
     },
     "output_type": "display_data"
    }
   ],
   "source": [
    "z.plot.scatter(x = 'market_cap', y = 'count_targets')\n",
    "plt.title('Market Capitalization vs. Count of Targets')\n",
    "plt.xlabel('Market Capitalization')\n",
    "plt.ylabel('Count of Targets')"
   ]
  },
  {
   "cell_type": "markdown",
   "id": "74663fc2",
   "metadata": {},
   "source": [
    "Based on the three scatter plots, we can conclude that market capitalization is not a good indicator of the total target value for each company. Instead, total target value is driven by the total number of customers for each company in the dataset."
   ]
  },
  {
   "cell_type": "code",
   "execution_count": 58,
   "id": "83be818f",
   "metadata": {},
   "outputs": [],
   "source": [
    "plt.show()"
   ]
  },
  {
   "cell_type": "markdown",
   "id": "3aa38b29",
   "metadata": {},
   "source": [
    "# Summary of Companies & Customer Merge: Inferences "
   ]
  },
  {
   "cell_type": "markdown",
   "id": "b6e9a7d7",
   "metadata": {},
   "source": [
    "After having analyzed the combined dataset, we can infer the following:\n",
    "\n",
    "1. Although the company 'AIA' is the largest by market capitalization at 1.12 T (assuming all market caps are in USD) in the 'company' dataset, the fourth company by market cap 'HSBC' represents the most customers (41) and highest total target value (~20.5M) in the 'customer' dataset.\n",
    "\n",
    "\n",
    "2. Market cap is not a good indicator of a customer account size and buying power. Instead, total target value is driven by the the total number of customers for each company in the dataset. This suggests the customer base is diversified, and the seller relies more on the volume of individual customers as opposed to large companies (by market cap)."
   ]
  },
  {
   "cell_type": "markdown",
   "id": "116345fe",
   "metadata": {},
   "source": [
    "# Assumptions"
   ]
  },
  {
   "cell_type": "markdown",
   "id": "9f996c2c",
   "metadata": {},
   "source": [
    "\n",
    "Customer Dataset Assumptions:\n",
    "- 'Targets' represents purchases for each customer record\n",
    "- An element of a list of 'targets' represents a single sale\n",
    "- A target value of 'nan', or undefined, represents a customer record with no purchases\n",
    "- Target values are assumed to be in the same currency\n",
    "- Customer, record id = 8419, Lyda Kadner target value represent an abnormal value in the dataset\n",
    "\n",
    "Company Dataset Assumptions:\n",
    "- 'Market_cap' is missing for the company 'Hong Kong Police Force' since it is a state-owned organization and financial information is not available\n",
    "- 'KPMG' is a public company and should have a market capitalization listed. Most recent market cap value was used.\n",
    "- 'Employee_number' represents the number of employees employed at each company; it is not an ID\n",
    "- The company 'AIA' has its number of employees listed as zero (0). This is not correct and should be replaced with recent data."
   ]
  },
  {
   "cell_type": "markdown",
   "id": "5e747032",
   "metadata": {},
   "source": [
    "# ---------------The End-------------------"
   ]
  }
 ],
 "metadata": {
  "kernelspec": {
   "display_name": "Python 3 (ipykernel)",
   "language": "python",
   "name": "python3"
  },
  "language_info": {
   "codemirror_mode": {
    "name": "ipython",
    "version": 3
   },
   "file_extension": ".py",
   "mimetype": "text/x-python",
   "name": "python",
   "nbconvert_exporter": "python",
   "pygments_lexer": "ipython3",
   "version": "3.10.8"
  }
 },
 "nbformat": 4,
 "nbformat_minor": 5
}
